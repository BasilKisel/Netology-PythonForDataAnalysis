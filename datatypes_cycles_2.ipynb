{
  "nbformat": 4,
  "nbformat_minor": 0,
  "metadata": {
    "kernelspec": {
      "display_name": "Python 3",
      "language": "python",
      "name": "python3"
    },
    "language_info": {
      "codemirror_mode": {
        "name": "ipython",
        "version": 3
      },
      "file_extension": ".py",
      "mimetype": "text/x-python",
      "name": "python",
      "nbconvert_exporter": "python",
      "pygments_lexer": "ipython3",
      "version": "3.8.5"
    },
    "colab": {
      "name": "datatypes_cycles_2.ipynb",
      "provenance": [],
      "collapsed_sections": []
    }
  },
  "cells": [
    {
      "cell_type": "markdown",
      "metadata": {
        "id": "TbpFpatU5xwp"
      },
      "source": [
        "# Домашнее задание к лекции \"Введение в типы данных и циклы. Часть 2\""
      ]
    },
    {
      "cell_type": "markdown",
      "metadata": {
        "id": "agVzaFBS5xwr"
      },
      "source": [
        "## Задание 1\n",
        "Дана переменная, в которой хранится словарь, содержащий гео-метки для каждого пользователя (пример структуры данных приведен ниже). Вам необходимо написать программу, которая выведет на экран множество уникальных гео-меток всех пользователей.\n",
        "\n",
        "Пример работы программы:  \n",
        "\n",
        "```\n",
        "ids = {'user1': [213, 213, 213, 15, 213], \n",
        "       'user2': [54, 54, 119, 119, 119], \n",
        "       'user3': [213, 98, 98, 35]}\n",
        "```\n",
        "\n",
        "Результат: \n",
        "`{98, 35, 15, 213, 54, 119}`"
      ]
    },
    {
      "cell_type": "code",
      "metadata": {
        "colab": {
          "base_uri": "https://localhost:8080/"
        },
        "id": "PHWVT0-p5_8z",
        "outputId": "31173501-5f46-4092-807b-4a24aabad7f0"
      },
      "source": [
        "ids = {'user1': [213, 213, 213, 15, 213], \n",
        "       'user2': [54, 54, 119, 119, 119], \n",
        "       'user3': [213, 98, 98, 35]}\n",
        "\n",
        "print(set(sum([geo_id_list for usr, geo_id_list in ids.items()], [])))"
      ],
      "execution_count": null,
      "outputs": [
        {
          "output_type": "stream",
          "name": "stdout",
          "text": [
            "{98, 35, 15, 213, 54, 119}\n"
          ]
        }
      ]
    },
    {
      "cell_type": "markdown",
      "metadata": {
        "id": "He_HwPOE5xws"
      },
      "source": [
        "## Задание 2\n",
        "Дана переменная, в которой хранится список поисковых запросов пользователя (пример структуры данных приведен ниже). Вам необходимо написать программу, которая выведет на экран распределение количества слов в запросах в требуемом виде.\n",
        "\n",
        "Пример работы программы:  \n",
        "\n",
        "```\n",
        "queries = [\n",
        "    'смотреть сериалы онлайн',\n",
        "    'новости спорта',\n",
        "    'афиша кино',\n",
        "    'курс доллара',\n",
        "    'сериалы этим летом',\n",
        "    'курс по питону',\n",
        "    'сериалы про спорт',\n",
        "]\n",
        "```\n",
        "\n",
        "Результат: \n",
        "```\n",
        "Поисковых запросов, содержащих 2 слов(а): 42.86%\n",
        "Поисковых запросов, содержащих 3 слов(а): 57.14%\n",
        "```"
      ]
    },
    {
      "cell_type": "code",
      "metadata": {
        "colab": {
          "base_uri": "https://localhost:8080/"
        },
        "id": "zW10c1kz66JE",
        "outputId": "bd54f4b1-4f33-48f6-9849-51687a7ac3ce"
      },
      "source": [
        "queries = [\n",
        "    'смотреть сериалы онлайн',\n",
        "    'новости спорта',\n",
        "    'афиша кино',\n",
        "    'курс доллара',\n",
        "    'сериалы этим летом',\n",
        "    'курс по питону',\n",
        "    'сериалы про спорт',\n",
        "]\n",
        "\n",
        "distribution = [len(phrase.split(' ')) for phrase in queries]\n",
        "word_cnt_set = set(distribution)\n",
        "for word_cnt in word_cnt_set:\n",
        "  print(f'Поисковых запросов, содержащих {word_cnt} слов(а): {round(100.0 * distribution.count(word_cnt) / len(distribution), 2)}%')"
      ],
      "execution_count": null,
      "outputs": [
        {
          "output_type": "stream",
          "name": "stdout",
          "text": [
            "Поисковых запросов, содержащих 2 слов(а): 42.86%\n",
            "Поисковых запросов, содержащих 3 слов(а): 57.14%\n"
          ]
        }
      ]
    },
    {
      "cell_type": "markdown",
      "metadata": {
        "id": "CqGqox6S5xws"
      },
      "source": [
        "## Задание 3\n",
        "Дана переменная, в которой хранится информация о затратах и доходе рекламных кампаний по различным источникам. Необходимо дополнить исходную структуру показателем [ROI](https://ru.wikipedia.org/wiki/%D0%9E%D0%BA%D1%83%D0%BF%D0%B0%D0%B5%D0%BC%D0%BE%D1%81%D1%82%D1%8C_%D0%B8%D0%BD%D0%B2%D0%B5%D1%81%D1%82%D0%B8%D1%86%D0%B8%D0%B9), который рассчитаем по формуле: **(revenue / cost - 1) * 100**\n",
        "\n",
        "Пример работы программы:  \n",
        "\n",
        "```\n",
        "results = {\n",
        "    'vk': {'revenue': 103, 'cost': 98},\n",
        "    'yandex': {'revenue': 179, 'cost': 153},\n",
        "    'facebook': {'revenue': 103, 'cost': 110},\n",
        "    'adwords': {'revenue': 35, 'cost': 34},\n",
        "    'twitter': {'revenue': 11, 'cost': 24},\n",
        "}\n",
        "```\n",
        "\n",
        "Результат: \n",
        "```\n",
        "{'adwords': {'revenue': 35, 'cost': 34, 'ROI': 2.94},\n",
        " 'facebook': {'revenue': 103, 'cost': 110, 'ROI': -6.36},\n",
        " 'twitter': {'revenue': 11, 'cost': 24, 'ROI': -54.17},\n",
        " 'vk': {'revenue': 103, 'cost': 98, 'ROI': 5.1},\n",
        " 'yandex': {'revenue': 179, 'cost': 153, 'ROI': 16.99}}\n",
        "```"
      ]
    },
    {
      "cell_type": "code",
      "metadata": {
        "colab": {
          "base_uri": "https://localhost:8080/"
        },
        "id": "1eEPH8eM8j3p",
        "outputId": "d627315f-19af-4235-ad67-60a5cfd2bffa"
      },
      "source": [
        "import pprint as ppt\n",
        "\n",
        "results = {\n",
        "    'vk': {'revenue': 103, 'cost': 98},\n",
        "    'yandex': {'revenue': 179, 'cost': 153},\n",
        "    'facebook': {'revenue': 103, 'cost': 110},\n",
        "    'adwords': {'revenue': 35, 'cost': 34},\n",
        "    'twitter': {'revenue': 11, 'cost': 24},\n",
        "}\n",
        "\n",
        "for company, ad_camp in results.items():\n",
        "  ad_camp['ROI'] = round((ad_camp['revenue'] / ad_camp['cost'] - 1) * 100, 2)\n",
        "\n",
        "ppt.pprint(results)"
      ],
      "execution_count": null,
      "outputs": [
        {
          "output_type": "stream",
          "name": "stdout",
          "text": [
            "{'adwords': {'ROI': 2.94, 'cost': 34, 'revenue': 35},\n",
            " 'facebook': {'ROI': -6.36, 'cost': 110, 'revenue': 103},\n",
            " 'twitter': {'ROI': -54.17, 'cost': 24, 'revenue': 11},\n",
            " 'vk': {'ROI': 5.1, 'cost': 98, 'revenue': 103},\n",
            " 'yandex': {'ROI': 16.99, 'cost': 153, 'revenue': 179}}\n"
          ]
        }
      ]
    },
    {
      "cell_type": "markdown",
      "metadata": {
        "id": "VB8YgBBR5xws"
      },
      "source": [
        "## Задание 4\n",
        "Дана переменная, в которой хранится статистика рекламных каналов по объемам продаж (пример структуры данных приведен ниже). Напишите программу, которая возвращает название канала с максимальным объемом продаж.\n",
        "\n",
        "Пример работы программы:  \n",
        "\n",
        "`stats = {'facebook': 55, 'yandex': 115, 'vk': 120, 'google': 99, 'email': 42, 'ok': 98}`\n",
        "\n",
        "Результат: \n",
        "`Максимальный объем продаж на рекламном канале: vk`"
      ]
    },
    {
      "cell_type": "code",
      "metadata": {
        "colab": {
          "base_uri": "https://localhost:8080/"
        },
        "id": "co-v1x4m-PoF",
        "outputId": "7a6909da-3d81-4647-b22e-c7d40df6a23b"
      },
      "source": [
        "stats = {'facebook': 55, 'yandex': 115, 'vk': 120, 'google': 99, 'email': 42, 'ok': 98}\n",
        "\n",
        "max_sell_val = max(stats.values())\n",
        "for channel, sell_val in stats.items():\n",
        "  if sell_val == max_sell_val:\n",
        "    print(f'Максимальный объем продаж на рекламном канале: {channel}')\n",
        "    break;"
      ],
      "execution_count": null,
      "outputs": [
        {
          "output_type": "stream",
          "name": "stdout",
          "text": [
            "Максимальный объем продаж на рекламном канале: vk\n"
          ]
        }
      ]
    },
    {
      "cell_type": "markdown",
      "metadata": {
        "id": "n8h1xdQB5xws"
      },
      "source": [
        "## Задание 5 (необязательно)\n",
        "Дан список произвольной длины. Необходимо написать код, который на основе исходного списка составит словарь такого уровня вложенности, какова длина исхондого списка.\n",
        "\n",
        "Примеры работы программы:  \n",
        "\n",
        "1. `my_list = ['2018-01-01', 'yandex', 'cpc', 100]`\n",
        "\n",
        "Результат: \n",
        "`{'2018-01-01': {'yandex': {'cpc': 100}}}`\n",
        "\n",
        "2. `my_list = ['a', 'b', 'c', 'd', 'e', 'f']`\n",
        "\n",
        "Результат: \n",
        "`{'a': {'b': {'c': {'d': {'e': 'f'}}}}}`"
      ]
    },
    {
      "cell_type": "code",
      "metadata": {
        "colab": {
          "base_uri": "https://localhost:8080/"
        },
        "id": "gzvcrXN1-2sm",
        "outputId": "8d9f8af6-0f99-43ea-9b14-99e0cbb889de"
      },
      "source": [
        "import pprint as ppt\n",
        "\n",
        "my_list = ['2018-01-01', 'yandex', 'cpc', 100]\n",
        "# my_list = ['a', 'b', 'c', 'd', 'e', 'f']\n",
        "\n",
        "res_dict = {my_list[-2]: my_list[-1]}\n",
        "for key_item in my_list[-2::-1]:\n",
        "  res_dict = {key_item: res_dict}\n",
        "\n",
        "ppt.pprint(res_dict)"
      ],
      "execution_count": null,
      "outputs": [
        {
          "output_type": "stream",
          "name": "stdout",
          "text": [
            "{'2018-01-01': {'yandex': {'cpc': {'cpc': 100}}}}\n"
          ]
        }
      ]
    },
    {
      "cell_type": "markdown",
      "metadata": {
        "id": "JOUCfSDn5xws"
      },
      "source": [
        "## Задание 6 (необязательно)\n",
        "Дана книга рецептов с информацией о том, сколько ингредиентов нужно для приготовления блюда в расчете на одну порцию (пример данных представлен ниже).  \n",
        "Напишите программу, которая будет запрашивать у пользователя количество порций для приготовления этих блюд и отображать информацию о суммарном количестве требуемых ингредиентов в указанном виде.  \n",
        "**Внимание!** Одинаковые ингридиенты с разными размерностями нужно считать раздельно!  \n",
        "Пример работы программы:  \n",
        "```\n",
        "cook_book = {\n",
        "  'салат': [\n",
        "     {'ingridient_name': 'сыр', 'quantity': 50, 'measure': 'гр'},\n",
        "     {'ingridient_name': 'томаты', 'quantity': 2, 'measure': 'шт'},\n",
        "     {'ingridient_name': 'огурцы', 'quantity': 20, 'measure': 'гр'},\n",
        "     {'ingridient_name': 'маслины', 'quantity': 10, 'measure': 'гр'},\n",
        "     {'ingridient_name': 'оливковое масло', 'quantity': 20, 'measure': 'мл'},\n",
        "     {'ingridient_name': 'салат', 'quantity': 10, 'measure': 'гр'},\n",
        "     {'ingridient_name': 'перец', 'quantity': 20, 'measure': 'гр'}\n",
        "    ],\n",
        "  'пицца': [\n",
        "     {'ingridient_name': 'сыр', 'quantity': 20, 'measure': 'гр'},\n",
        "     {'ingridient_name': 'колбаса', 'quantity': 30, 'measure': 'гр'},\n",
        "     {'ingridient_name': 'бекон', 'quantity': 30, 'measure': 'гр'},\n",
        "     {'ingridient_name': 'оливки', 'quantity': 10, 'measure': 'гр'},\n",
        "     {'ingridient_name': 'томаты', 'quantity': 20, 'measure': 'гр'},\n",
        "     {'ingridient_name': 'тесто', 'quantity': 100, 'measure': 'гр'},   \n",
        "    ],\n",
        "  'лимонад': [\n",
        "     {'ingridient_name': 'лимон', 'quantity': 1, 'measure': 'шт'},\n",
        "     {'ingridient_name': 'вода', 'quantity': 200, 'measure': 'мл'},\n",
        "     {'ingridient_name': 'сахар', 'quantity': 10, 'measure': 'гр'},\n",
        "     {'ingridient_name': 'лайм', 'quantity': 20, 'measure': 'гр'},    \n",
        "    ]\n",
        "}\n",
        "\n",
        "Введите количество порций:  \n",
        "3\n",
        "```\n",
        "\n",
        "\n",
        "Результат: \n",
        "```\n",
        "Сыр: 210 гр  \n",
        "Томаты: 6 шт  \n",
        "Огурцы: 60 гр  \n",
        "Маслины: 30 гр  \n",
        "Оливковое масло: 60 мл  \n",
        "Салат: 30 гр  \n",
        "Перец: 60 гр  \n",
        "Колбаса: 90 гр  \n",
        "Бекон: 90 гр  \n",
        "Оливки: 30 гр  \n",
        "Томаты: 60 гр  \n",
        "Тесто: 300 гр  \n",
        "Лимон: 3 шт  \n",
        "Вода: 600 мл  \n",
        "Сахар: 30 гр  \n",
        "Лайм: 60 гр  \n",
        "```"
      ]
    },
    {
      "cell_type": "code",
      "metadata": {
        "colab": {
          "base_uri": "https://localhost:8080/"
        },
        "id": "HNyCL-DHAazl",
        "outputId": "e42481d3-88e3-4ee6-9b1e-ad4aeab51ca8"
      },
      "source": [
        "cook_book = {\n",
        "  'салат': [\n",
        "     {'ingridient_name': 'сыр', 'quantity': 50, 'measure': 'гр'},\n",
        "     {'ingridient_name': 'томаты', 'quantity': 2, 'measure': 'шт'},\n",
        "     {'ingridient_name': 'огурцы', 'quantity': 20, 'measure': 'гр'},\n",
        "     {'ingridient_name': 'маслины', 'quantity': 10, 'measure': 'гр'},\n",
        "     {'ingridient_name': 'оливковое масло', 'quantity': 20, 'measure': 'мл'},\n",
        "     {'ingridient_name': 'салат', 'quantity': 10, 'measure': 'гр'},\n",
        "     {'ingridient_name': 'перец', 'quantity': 20, 'measure': 'гр'}\n",
        "    ],\n",
        "  'пицца': [\n",
        "     {'ingridient_name': 'сыр', 'quantity': 20, 'measure': 'гр'},\n",
        "     {'ingridient_name': 'колбаса', 'quantity': 30, 'measure': 'гр'},\n",
        "     {'ingridient_name': 'бекон', 'quantity': 30, 'measure': 'гр'},\n",
        "     {'ingridient_name': 'оливки', 'quantity': 10, 'measure': 'гр'},\n",
        "     {'ingridient_name': 'томаты', 'quantity': 20, 'measure': 'гр'},\n",
        "     {'ingridient_name': 'тесто', 'quantity': 100, 'measure': 'гр'},   \n",
        "    ],\n",
        "  'лимонад': [\n",
        "     {'ingridient_name': 'лимон', 'quantity': 1, 'measure': 'шт'},\n",
        "     {'ingridient_name': 'вода', 'quantity': 200, 'measure': 'мл'},\n",
        "     {'ingridient_name': 'сахар', 'quantity': 10, 'measure': 'гр'},\n",
        "     {'ingridient_name': 'лайм', 'quantity': 20, 'measure': 'гр'},    \n",
        "    ]\n",
        "}\n",
        "\n",
        "ingrid_dict = {}\n",
        "for ingrid_dat in sum(cook_book.values(), []):\n",
        "  ingrid_key = (ingrid_dat['ingridient_name'], ingrid_dat['measure'])\n",
        "  ingrid_dict[ingrid_key] = ingrid_dict.get(ingrid_key, 0) + ingrid_dat['quantity']\n",
        "\n",
        "meal_cnt = int(input('Введите количество порций: '))\n",
        "\n",
        "for (ingrid_name, measure), quantity in ingrid_dict.items():\n",
        "  print(f'{ingrid_name.capitalize()}: {quantity * meal_cnt} {measure}')"
      ],
      "execution_count": null,
      "outputs": [
        {
          "output_type": "stream",
          "name": "stdout",
          "text": [
            "Введите количество порций: -3\n",
            "Сыр: -210 гр\n",
            "Томаты: -6 шт\n",
            "Огурцы: -60 гр\n",
            "Маслины: -30 гр\n",
            "Оливковое масло: -60 мл\n",
            "Салат: -30 гр\n",
            "Перец: -60 гр\n",
            "Колбаса: -90 гр\n",
            "Бекон: -90 гр\n",
            "Оливки: -30 гр\n",
            "Томаты: -60 гр\n",
            "Тесто: -300 гр\n",
            "Лимон: -3 шт\n",
            "Вода: -600 мл\n",
            "Сахар: -30 гр\n",
            "Лайм: -60 гр\n"
          ]
        }
      ]
    },
    {
      "cell_type": "markdown",
      "metadata": {
        "id": "g6jf6hsG5xwt"
      },
      "source": [
        "#### ПРИМЕЧАНИЕ\n",
        "Домашнее задание сдается ссылкой [Google Colab](https://colab.research.google.com/).\n",
        "Не сможем проверить или помочь, если вы пришлете:\n",
        "- файлы;\n",
        "- архивы;\n",
        "- скриншоты кода.\n",
        "\n",
        "Все обсуждения и консультации по выполнению домашнего задания ведутся только на соответствующем канале в slack.\n",
        "\n",
        "##### Как правильно задавать вопросы аспирантам, преподавателям и коллегам\n",
        "Прежде чем задать вопрос, попробуйте найти ответ в интернете. Навык самостоятельного поиска информации — один из важнейших. Каждый практикующий специалист любого уровня делает это ежедневно.\n",
        "\n",
        "Сформулируйте вопрос по алгоритму:  \n",
        "1) Что я делаю?  \n",
        "2) Какого результата я ожидаю?  \n",
        "3) Как фактический результат отличается от ожидаемого?  \n",
        "4) Что я уже попробовал сделать, чтобы исправить проблему?  \n",
        "\n",
        "По возможности прикрепите к вопросу скриншоты либо ссылки на код. Не выкладывайте все решение, оставляйте только проблемный и воспроизводимый участок кода."
      ]
    }
  ]
}