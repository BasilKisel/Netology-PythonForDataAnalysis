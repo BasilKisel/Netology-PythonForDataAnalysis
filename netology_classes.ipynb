{
  "nbformat": 4,
  "nbformat_minor": 0,
  "metadata": {
    "colab": {
      "name": "netology_classes.ipynb",
      "provenance": [],
      "collapsed_sections": []
    },
    "kernelspec": {
      "name": "python3",
      "display_name": "Python 3"
    },
    "language_info": {
      "name": "python"
    }
  },
  "cells": [
    {
      "cell_type": "markdown",
      "metadata": {
        "id": "vr90M4dF00y6"
      },
      "source": [
        "**Задание 1**\n",
        "\n",
        "Напишите функцию, которая возвращает название валюты (поле ‘Name’) с максимальным значением курса с помощью сервиса www.cbr-xml-daily.ru...ly_json.js\n",
        "\n",
        "**Задание 2**\n",
        "\n",
        "Добавьте в класс Rate параметр diff (со значениями True или False), который в случае значения True в методах курсов валют (eur, usd итд) будет возвращать не курс валюты, а изменение по сравнению в прошлым значением. Считайте, self.diff будет принимать значение True только при возврате значения курса. При отображении всей информации о валюте он не используется.\n",
        "\n",
        "**Задание 3**\n",
        "\n",
        "Напишите класс Designer, который учитывает количество международных премий. Подсказки в коде занятия в разделе “Домашнее задание задача 3”.\n",
        "\n",
        "**Комментарий по классу Designer такой:**\n",
        "\n",
        "Напишите класс Designer, который учитывает количество международных премий для дизайнеров (из презентации: “Повышение на 1 грейд за каждые 7 баллов. Получение международной премии – это +2 балла”). Считайте, что при выходе на работу сотрудник уже имеет две премии и их количество не меняется со стажем (конечно если хотите это можно вручную менять).\n",
        "\n",
        "Класс Designer пишется по аналогии с классом Developer из материалов занятия."
      ]
    },
    {
      "cell_type": "code",
      "metadata": {
        "cellView": "form",
        "id": "a37_3Xv31Bh8"
      },
      "source": [
        "#@title\n",
        "import requests\n",
        "\n",
        "class Rate:\n",
        "    def __init__(self, format='value'):\n",
        "        self.format = format\n",
        "    \n",
        "    def exchange_rates(self):\n",
        "        \"\"\"\n",
        "        Возвращает ответ сервиса с информацией о валютах в виде:\n",
        "        \n",
        "        {\n",
        "            'AMD': {\n",
        "                'CharCode': 'AMD',\n",
        "                'ID': 'R01060',\n",
        "                'Name': 'Армянских драмов',\n",
        "                'Nominal': 100,\n",
        "                'NumCode': '051',\n",
        "                'Previous': 14.103,\n",
        "                'Value': 14.0879\n",
        "                },\n",
        "            ...\n",
        "        }\n",
        "        \"\"\"\n",
        "        r = requests.get('https://www.cbr-xml-daily.ru/daily_json.js')\n",
        "        return r.json()['Valute']\n",
        "    \n",
        "    def make_format(self, currency):\n",
        "        \"\"\"\n",
        "        Возвращает информацию о валюте currency в двух вариантах:\n",
        "        - полная информация о валюте при self.format = 'full':\n",
        "        Rate('full').make_format('EUR')\n",
        "        {\n",
        "            'CharCode': 'EUR',\n",
        "            'ID': 'R01239',\n",
        "            'Name': 'Евро',\n",
        "            'Nominal': 1,\n",
        "            'NumCode': '978',\n",
        "            'Previous': 79.6765,\n",
        "            'Value': 79.4966\n",
        "        }\n",
        "        \n",
        "        Rate('value').make_format('EUR')\n",
        "        79.4966\n",
        "        \"\"\"\n",
        "        response = self.exchange_rates()\n",
        "        \n",
        "        if currency in response:\n",
        "            if self.format == 'full':\n",
        "                return response[currency]\n",
        "            \n",
        "            if self.format == 'value':\n",
        "                return response[currency]['Value']\n",
        "        \n",
        "        return 'Error'\n",
        "    \n",
        "    def eur(self):\n",
        "        \"\"\"Возвращает курс евро на сегодня в формате self.format\"\"\"\n",
        "        return self.make_format('EUR')\n",
        "    \n",
        "    def usd(self):\n",
        "        \"\"\"Возвращает курс доллара на сегодня в формате self.format\"\"\"\n",
        "        return self.make_format('USD')\n",
        "\n",
        "    def AZN(self):\n",
        "        \"\"\"Возвращает курс азербайджанского маната на сегодня в формате self.format\"\"\"\n",
        "        return self.make_format('AZN')"
      ],
      "execution_count": null,
      "outputs": []
    },
    {
      "cell_type": "code",
      "metadata": {
        "cellView": "form",
        "id": "y6N4sJSyAJ1_"
      },
      "source": [
        "#@title\n",
        "class Employee:\n",
        "    def __init__(self, name, seniority):\n",
        "        self.name = name\n",
        "        self.seniority = seniority\n",
        "        \n",
        "        self.grade = 1\n",
        "    \n",
        "    def grade_up(self):\n",
        "        \"\"\"Повышает уровень сотрудника\"\"\"\n",
        "        self.grade += 1\n",
        "    \n",
        "    def publish_grade(self):\n",
        "        \"\"\"Публикация результатов аккредитации сотрудников\"\"\"\n",
        "        print(self.name, self.grade)\n",
        "    \n",
        "    def check_if_it_is_time_for_upgrade(self):\n",
        "        pass\n",
        "\n",
        "class Developer(Employee):\n",
        "    def __init__(self, name, seniority):\n",
        "        super().__init__(name, seniority)\n",
        "    \n",
        "    def check_if_it_is_time_for_upgrade(self):\n",
        "        # для каждой аккредитации увеличиваем счетчик на 1\n",
        "        # пока считаем, что все разработчики проходят аккредитацию\n",
        "        self.seniority += 1\n",
        "        \n",
        "        # условие повышения сотрудника из презентации\n",
        "        if self.seniority % 5 == 0:\n",
        "            self.grade_up()\n",
        "        \n",
        "        # публикация результатов\n",
        "        return self.publish_grade()"
      ],
      "execution_count": null,
      "outputs": []
    },
    {
      "cell_type": "markdown",
      "metadata": {
        "id": "OOvng3VK2czw"
      },
      "source": [
        "Задание 1\n",
        "\n",
        "Напишите функцию, которая возвращает название валюты (поле ‘Name’) с максимальным значением курса с помощью сервиса www.cbr-xml-daily.ru...ly_json.js\n",
        "\n",
        "Задание 2\n",
        "\n",
        "Добавьте в класс Rate параметр diff (со значениями True или False), который в случае значения True в методах курсов валют (eur, usd итд) будет возвращать не курс валюты, а изменение по сравнению в прошлым значением. Считайте, self.diff будет принимать значение True только при возврате значения курса. При отображении всей информации о валюте он не используется."
      ]
    },
    {
      "cell_type": "code",
      "metadata": {
        "id": "J-EvUfXl0tr0"
      },
      "source": [
        "class StatRate(Rate):\n",
        "  def __init__(self, format='full'):\n",
        "    super().__init__(format)\n",
        "\n",
        "  def get_max_currency_name(self):\n",
        "    \"\"\"Возвращает название валюты (поле ‘Name’) с максимальным значением курса с помощью сервиса.\"\"\"\n",
        "    return max(self.exchange_rates().values(), default=None, key=lambda cur: cur['Value'])['Name']\n",
        "  \n",
        "  def make_format(self, currency):\n",
        "    \"\"\"\n",
        "    Параметр diff (со значениями True или False), который в случае значения \n",
        "    True в методах курсов валют (eur, usd итд) будет возвращать не курс валюты, \n",
        "    а изменение по сравнению в прошлым значением. \n",
        "    \n",
        "    Считайте, self.diff будет принимать значение True только \n",
        "    при возврате значения курса. \n",
        "    При отображении всей информации о валюте он не используется.\n",
        "    \"\"\"\n",
        "    if (self.format != 'diff'):\n",
        "      return super().make_format(currency)\n",
        "    tmp_fmt = self.format\n",
        "    self.format = 'full'\n",
        "    info = self.make_format(currency)\n",
        "    self.format = tmp_fmt\n",
        "    if (type(info) == str):\n",
        "      return info # 'Error'\n",
        "    return info['Value'] - info['Previous']     \n"
      ],
      "execution_count": null,
      "outputs": []
    },
    {
      "cell_type": "code",
      "metadata": {
        "colab": {
          "base_uri": "https://localhost:8080/"
        },
        "id": "dPuLyWcm29uU",
        "outputId": "a2fb51cc-68c9-49b5-dd18-1d2db6508717"
      },
      "source": [
        "sr = StatRate('diff')\n",
        "print(f'The most expensive currency is \"{sr.get_max_currency_name()}\"')\n",
        "print(f'EUR diff is \"{sr.eur()}\"')\n",
        "print(f'USD diff is \"{sr.usd()}\"')\n",
        "print(f'AZN diff is \"{sr.AZN()}\"')\n",
        "print(f'BRL diff is \"{sr.make_format(\"BRL\")}\"')\n",
        "print(f'ZZZ diff is \"{sr.make_format(\"ZZZ\")}\"')"
      ],
      "execution_count": null,
      "outputs": [
        {
          "output_type": "stream",
          "name": "stdout",
          "text": [
            "The most expensive currency is \"СДР (специальные права заимствования)\"\n",
            "EUR diff is \"0.34140000000000725\"\n",
            "USD diff is \"-0.08920000000000528\"\n",
            "AZN diff is \"-0.05250000000000199\"\n",
            "BRL diff is \"0.002200000000000202\"\n",
            "ZZZ diff is \"Error\"\n"
          ]
        }
      ]
    },
    {
      "cell_type": "markdown",
      "metadata": {
        "id": "woglhbogAjbP"
      },
      "source": [
        "Задание 3\n",
        "\n",
        "Напишите класс Designer, который учитывает количество международных премий. Подсказки в коде занятия в разделе “Домашнее задание задача 3”.\n",
        "\n",
        "Комментарий по классу Designer такой:\n",
        "\n",
        "Напишите класс Designer, который учитывает количество международных премий для дизайнеров (из презентации: “Повышение на 1 грейд за каждые 7 баллов. Получение международной премии – это +2 балла”). Считайте, что при выходе на работу сотрудник уже имеет две премии и их количество не меняется со стажем (конечно если хотите это можно вручную менять).\n",
        "\n",
        "Класс Designer пишется по аналогии с классом Developer из материалов занятия."
      ]
    },
    {
      "cell_type": "code",
      "metadata": {
        "id": "Y7pQVPWbAn-Y"
      },
      "source": [
        "class Designer(Employee):\n",
        "\n",
        "  def __init__(self, name, seniority, award_cnt=2):\n",
        "    assert type(award_cnt) == int\n",
        "    super().__init__(name, seniority)\n",
        "    self.award_cnt = award_cnt\n",
        "\n",
        "  def award_up(self):\n",
        "    self.award_cnt += 1\n",
        "  \n",
        "  def check_if_it_is_time_for_upgrade(self):\n",
        "    \"\"\"Повышение на 1 грейд за каждые 7 баллов. Получение международной премии – это +2 балла\"\"\"\n",
        "    self.seniority += 1\n",
        "\n",
        "    while ((self.seniority + self.award_cnt * 2) // 7 >= self.grade):\n",
        "      self.grade_up()\n",
        "    \n",
        "    return self.publish_grade()"
      ],
      "execution_count": null,
      "outputs": []
    },
    {
      "cell_type": "code",
      "metadata": {
        "colab": {
          "base_uri": "https://localhost:8080/"
        },
        "id": "BiQhzPNUGYzf",
        "outputId": "79adcdbd-bca7-4a03-c95f-52ae1b27f29e"
      },
      "source": [
        "new_des = Designer('Артём Лебедев', 0)\n",
        "\n",
        "for i in range(1, 20):\n",
        "\n",
        "  if (i % 8 == 0):\n",
        "    for _ in range(6):\n",
        "      new_des.award_up()\n",
        "    print('New awards!')\n",
        "\n",
        "  new_des.check_if_it_is_time_for_upgrade()\n",
        "  print (f'iter={i}, seniority={new_des.seniority}, awards={new_des.award_cnt}, score={new_des.seniority + new_des.award_cnt * 2}\\n')"
      ],
      "execution_count": null,
      "outputs": [
        {
          "output_type": "stream",
          "name": "stdout",
          "text": [
            "Артём Лебедев 1\n",
            "iter=1, seniority=1, awards=2, score=5\n",
            "\n",
            "Артём Лебедев 1\n",
            "iter=2, seniority=2, awards=2, score=6\n",
            "\n",
            "Артём Лебедев 2\n",
            "iter=3, seniority=3, awards=2, score=7\n",
            "\n",
            "Артём Лебедев 2\n",
            "iter=4, seniority=4, awards=2, score=8\n",
            "\n",
            "Артём Лебедев 2\n",
            "iter=5, seniority=5, awards=2, score=9\n",
            "\n",
            "Артём Лебедев 2\n",
            "iter=6, seniority=6, awards=2, score=10\n",
            "\n",
            "Артём Лебедев 2\n",
            "iter=7, seniority=7, awards=2, score=11\n",
            "\n",
            "New awards!\n",
            "Артём Лебедев 4\n",
            "iter=8, seniority=8, awards=8, score=24\n",
            "\n",
            "Артём Лебедев 4\n",
            "iter=9, seniority=9, awards=8, score=25\n",
            "\n",
            "Артём Лебедев 4\n",
            "iter=10, seniority=10, awards=8, score=26\n",
            "\n",
            "Артём Лебедев 4\n",
            "iter=11, seniority=11, awards=8, score=27\n",
            "\n",
            "Артём Лебедев 5\n",
            "iter=12, seniority=12, awards=8, score=28\n",
            "\n",
            "Артём Лебедев 5\n",
            "iter=13, seniority=13, awards=8, score=29\n",
            "\n",
            "Артём Лебедев 5\n",
            "iter=14, seniority=14, awards=8, score=30\n",
            "\n",
            "Артём Лебедев 5\n",
            "iter=15, seniority=15, awards=8, score=31\n",
            "\n",
            "New awards!\n",
            "Артём Лебедев 7\n",
            "iter=16, seniority=16, awards=14, score=44\n",
            "\n",
            "Артём Лебедев 7\n",
            "iter=17, seniority=17, awards=14, score=45\n",
            "\n",
            "Артём Лебедев 7\n",
            "iter=18, seniority=18, awards=14, score=46\n",
            "\n",
            "Артём Лебедев 7\n",
            "iter=19, seniority=19, awards=14, score=47\n",
            "\n"
          ]
        }
      ]
    }
  ]
}