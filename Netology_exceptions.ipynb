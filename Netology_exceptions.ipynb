{
  "nbformat": 4,
  "nbformat_minor": 0,
  "metadata": {
    "colab": {
      "name": "Netology exceptions.ipynb",
      "provenance": [],
      "collapsed_sections": []
    },
    "kernelspec": {
      "name": "python3",
      "display_name": "Python 3"
    },
    "language_info": {
      "name": "python"
    }
  },
  "cells": [
    {
      "cell_type": "markdown",
      "metadata": {
        "id": "d0R_UWPtQsbW"
      },
      "source": [
        "Задание\n",
        "Вопросы по заданию\n",
        "Преподаватель: Константин Башевой\n",
        "\n",
        "\n",
        "**Задание 1**\n",
        "\n",
        "Печатные газеты использовали свой формат дат для каждого выпуска. Для каждой газеты из списка напишите формат указанной даты для перевода в объект datetime:\n",
        "The Moscow Times - Wednesday, October 2, 2002\n",
        "The Guardian - Friday, 11.10.13\n",
        "Daily News - Thursday, 18 August 1977\n",
        "\n",
        "\n",
        "**Задание 2**\n",
        "\n",
        "Дан поток дат в формате YYYY-MM-DD, в которых встречаются некорректные значения:\n",
        "stream = [‘2018-04-02’, ‘2018-02-29’, ‘2018-19-02’]\n",
        "\n",
        "Напишите функцию, которая проверяет эти даты на корректность. Т. е. для каждой даты возвращает True (дата корректна) или False (некорректная дата).\n",
        "\n",
        "\n",
        "**Задание 3**\n",
        "\n",
        "Напишите функцию date_range, которая возвращает список дат за период от start_date до end_date. Даты должны вводиться в формате YYYY-MM-DD. В случае неверного формата или при start_date > end_date должен возвращаться пустой список.\n",
        "\n",
        "\n",
        "**Задание 4 (необязательное)**\n",
        "\n",
        "Ваш коллега прислал код функции:\n",
        "\n",
        "```\n",
        "DEFAULT_USER_COUNT = 3\n",
        "\n",
        "def delete_and_return_last_user(region, default_list=[‘A100’, ‘A101’, ‘A102’]):\n",
        "\"\"\"\n",
        "Удаляет из списка default_list последнего пользователя\n",
        "и возвращает ID нового последнего пользователя.\n",
        "\"\"\"\n",
        "  element_to_delete = default_list[-1]\n",
        "  default_list.remove(element_to_delete)\n",
        "  return default_list[DEFAULT_USER_COUNT-2]\n",
        "```\n",
        "\n",
        "При однократном вызове этой функции все работает корректно:\n",
        "```\n",
        "> delete_and_return_last_user(1)\n",
        "‘A101’\n",
        "```\n",
        "\n",
        "Однако, при повторном вызове получается ошибка IndexError: list index out of range.\n",
        "\n",
        "Задание:\n",
        "\n",
        "Что значит ошибка list index out of range?\n",
        "Почему при первом запуске функция работает корректно, а при втором - нет?\n",
        "\n",
        "\n",
        "Важно! замечание к заданию.\n",
        "\n",
        "**** Для зачета достаточно сделать три задания! (четвертое необязательное)****"
      ]
    },
    {
      "cell_type": "markdown",
      "metadata": {
        "id": "NWkHIA5ESCdX"
      },
      "source": [
        "----"
      ]
    },
    {
      "cell_type": "code",
      "metadata": {
        "id": "VcJZs69fUGvt"
      },
      "source": [
        "from datetime import datetime, date"
      ],
      "execution_count": null,
      "outputs": []
    },
    {
      "cell_type": "code",
      "metadata": {
        "id": "TEIl7GLsSEs0",
        "colab": {
          "base_uri": "https://localhost:8080/"
        },
        "outputId": "f0130c57-75f6-47c3-abb9-8037a5c02ac0"
      },
      "source": [
        "\"\"\"\n",
        "Задание 1\n",
        "\n",
        "Печатные газеты использовали свой формат дат для каждого выпуска.\n",
        "\n",
        "Для каждой газеты из списка напишите формат указанной даты для перевода в объект datetime:\n",
        "The Moscow Times - Wednesday, October 2, 2002\n",
        "The Guardian - Friday, 11.10.13\n",
        "Daily News - Thursday, 18 August 1977\n",
        "\"\"\"\n",
        "moscow_time_newspaper = 'The Moscow Times - Wednesday, October 2, 2002'\n",
        "dt = datetime.strptime(moscow_time_newspaper, 'The Moscow Times - %A, %B %d, %Y')\n",
        "print(f'\"{dt.strftime(\"%Y.%m.%d\")}\" - {moscow_time_newspaper}')\n",
        "\n",
        "the_guardian = 'The Guardian - Friday, 11.10.13' # 11th of October was Friday\n",
        "dt = datetime.strptime(the_guardian, 'The Guardian - %A, %d.%m.%y')\n",
        "print(f'\"{dt.strftime(\"%Y.%m.%d\")}\" - {the_guardian}')\n",
        "\n",
        "daily_news = 'Daily News - Thursday, 18 August 1977'\n",
        "dt = datetime.strptime(daily_news, 'Daily News - %A, %d %B %Y')\n",
        "print(f'\"{dt.strftime(\"%Y.%m.%d\")}\" - {daily_news}')"
      ],
      "execution_count": null,
      "outputs": [
        {
          "output_type": "stream",
          "name": "stdout",
          "text": [
            "\"2002.10.02\" - The Moscow Times - Wednesday, October 2, 2002\n",
            "\"2013.10.11\" - The Guardian - Friday, 11.10.13\n",
            "\"1977.08.18\" - Daily News - Thursday, 18 August 1977\n"
          ]
        }
      ]
    },
    {
      "cell_type": "code",
      "metadata": {
        "colab": {
          "base_uri": "https://localhost:8080/"
        },
        "id": "MIjx5VKn50QR",
        "outputId": "c3f4505b-078e-4b1c-b62c-221b47a44424"
      },
      "source": [
        "\"\"\"\n",
        "Задание 2\n",
        "\n",
        "Дан поток дат в формате YYYY-MM-DD, в которых встречаются некорректные значения: stream = [‘2018-04-02’, ‘2018-02-29’, ‘2018-19-02’]\n",
        "\n",
        "Напишите функцию, которая проверяет эти даты на корректность. Т. е. для каждой даты возвращает True (дата корректна) или False (некорректная дата).\n",
        "\"\"\"\n",
        "def check_dt_str(dt_item):\n",
        "  try:\n",
        "    return date.fromisoformat(dt_item) is not None\n",
        "  except ValueError:\n",
        "    return False\n",
        "  # I want the code to fail when other error occured\n",
        "\n",
        "stream = ['2018-04-02', '2018-02-29', '2018-19-02', '0001-1-1']\n",
        "\n",
        "for dt_item in stream:\n",
        "  print(f'\"{dt_item}\" is valid: {check_dt_str(dt_item)}')"
      ],
      "execution_count": null,
      "outputs": [
        {
          "output_type": "stream",
          "name": "stdout",
          "text": [
            "\"2018-04-02\" is valid: True\n",
            "\"2018-02-29\" is valid: False\n",
            "\"2018-19-02\" is valid: False\n",
            "\"0001-1-1\" is valid: False\n"
          ]
        }
      ]
    },
    {
      "cell_type": "code",
      "metadata": {
        "colab": {
          "base_uri": "https://localhost:8080/"
        },
        "id": "JAuSJKNs82ez",
        "outputId": "129e31b0-19a7-457e-a73e-2fcd57d8b091"
      },
      "source": [
        "\"\"\"\n",
        "Задание 3\n",
        "\n",
        "Напишите функцию date_range, которая возвращает список дат за период от start_date до end_date.\n",
        "Даты должны вводиться в формате YYYY-MM-DD.\n",
        "В случае неверного формата или при start_date > end_date должен возвращаться пустой список.\n",
        "\"\"\"\n",
        "def dt_range(start_date, end_date):\n",
        "  try:\n",
        "    date_start_ord = date.fromisoformat(start_date).toordinal()\n",
        "    date_end_ord = date.fromisoformat(end_date).toordinal()\n",
        "    return list(map(date.fromordinal, range(date_start_ord, date_end_ord + 1)))\n",
        "  except ValueError:\n",
        "    return []\n",
        "\n",
        "# Incorect start_date, end_date\n",
        "print(dt_range('2018-02-29', '2018-02-29')) # []\n",
        "print(dt_range('2018-02-29', '2018-03-01')) # []\n",
        "print(dt_range('2018-19-02', '2018-03-01')) # []\n",
        "print(dt_range('0001-1-1', '0001-01-01')) # []\n",
        "print(dt_range('2000-01-02', '2000-01-01')) # []\n",
        "\n",
        "# Correct start_date, end_date\n",
        "print(dt_range('2018-02-28', '2018-02-28'))\n",
        "print(dt_range('2018-02-28', '2018-03-01'))\n",
        "print(dt_range('2018-03-02', '2018-03-03'))\n",
        "print(dt_range('0001-01-01', '0001-01-01'))\n",
        "print(dt_range('2000-01-02', '2000-02-01'))"
      ],
      "execution_count": null,
      "outputs": [
        {
          "output_type": "stream",
          "name": "stdout",
          "text": [
            "[]\n",
            "[]\n",
            "[]\n",
            "[]\n",
            "[]\n",
            "[datetime.date(2018, 2, 28)]\n",
            "[datetime.date(2018, 2, 28), datetime.date(2018, 3, 1)]\n",
            "[datetime.date(2018, 3, 2), datetime.date(2018, 3, 3)]\n",
            "[datetime.date(1, 1, 1)]\n",
            "[datetime.date(2000, 1, 2), datetime.date(2000, 1, 3), datetime.date(2000, 1, 4), datetime.date(2000, 1, 5), datetime.date(2000, 1, 6), datetime.date(2000, 1, 7), datetime.date(2000, 1, 8), datetime.date(2000, 1, 9), datetime.date(2000, 1, 10), datetime.date(2000, 1, 11), datetime.date(2000, 1, 12), datetime.date(2000, 1, 13), datetime.date(2000, 1, 14), datetime.date(2000, 1, 15), datetime.date(2000, 1, 16), datetime.date(2000, 1, 17), datetime.date(2000, 1, 18), datetime.date(2000, 1, 19), datetime.date(2000, 1, 20), datetime.date(2000, 1, 21), datetime.date(2000, 1, 22), datetime.date(2000, 1, 23), datetime.date(2000, 1, 24), datetime.date(2000, 1, 25), datetime.date(2000, 1, 26), datetime.date(2000, 1, 27), datetime.date(2000, 1, 28), datetime.date(2000, 1, 29), datetime.date(2000, 1, 30), datetime.date(2000, 1, 31), datetime.date(2000, 2, 1)]\n"
          ]
        }
      ]
    },
    {
      "cell_type": "code",
      "metadata": {
        "id": "9-x3niimJ59r"
      },
      "source": [
        "\"\"\"\n",
        "**Задание 4 (необязательное)**\n",
        "\n",
        "Ваш коллега прислал код функции:\n",
        "\n",
        "```\n",
        "DEFAULT_USER_COUNT = 3\n",
        "\n",
        "def delete_and_return_last_user(region, default_list=[‘A100’, ‘A101’, ‘A102’]):\n",
        "# Удаляет из списка default_list последнего пользователя\n",
        "# и возвращает ID нового последнего пользователя.\n",
        "element_to_delete = default_list[-1]\n",
        "default_list.remove(element_to_delete)\n",
        "```\n",
        "`return default_list[DEFAULT_USER_COUNT-2]`\n",
        "\n",
        "При однократном вызове этой функции все работает корректно:\n",
        "`delete_and_return_last_user(1)`\n",
        "`> ‘A101’`\n",
        "\n",
        "Однако, при повторном вызове получается ошибка IndexError: list index out of range.\n",
        "\n",
        "Задание:\n",
        "Что значит ошибка list index out of range?\n",
        "Почему при первом запуске функция работает корректно, а при втором - нет?\n",
        "\"\"\""
      ],
      "execution_count": null,
      "outputs": []
    },
    {
      "cell_type": "code",
      "metadata": {
        "id": "FVweWPyOceil"
      },
      "source": [
        "DEFAULT_USER_COUNT = 3\n",
        "\n",
        "def delete_and_return_last_user(region, default_list=['A100', 'A101', 'A102']):\n",
        "# Удаляет из списка default_list последнего пользователя\n",
        "# и возвращает ID нового последнего пользователя.\n",
        "  element_to_delete = default_list[-1]\n",
        "  default_list.remove(element_to_delete)\n",
        "  return default_list[DEFAULT_USER_COUNT-2]"
      ],
      "execution_count": null,
      "outputs": []
    },
    {
      "cell_type": "code",
      "metadata": {
        "colab": {
          "base_uri": "https://localhost:8080/",
          "height": 252
        },
        "id": "W4Gta4DJdEGY",
        "outputId": "4ff01c61-585c-40e4-8644-9de8887338c7"
      },
      "source": [
        "delete_and_return_last_user(1)"
      ],
      "execution_count": null,
      "outputs": [
        {
          "output_type": "error",
          "ename": "IndexError",
          "evalue": "ignored",
          "traceback": [
            "\u001b[0;31m---------------------------------------------------------------------------\u001b[0m",
            "\u001b[0;31mIndexError\u001b[0m                                Traceback (most recent call last)",
            "\u001b[0;32m<ipython-input-16-bfb6c4f8c48e>\u001b[0m in \u001b[0;36m<module>\u001b[0;34m()\u001b[0m\n\u001b[0;32m----> 1\u001b[0;31m \u001b[0mdelete_and_return_last_user\u001b[0m\u001b[0;34m(\u001b[0m\u001b[0;36m1\u001b[0m\u001b[0;34m)\u001b[0m\u001b[0;34m\u001b[0m\u001b[0;34m\u001b[0m\u001b[0m\n\u001b[0m",
            "\u001b[0;32m<ipython-input-14-617798deb798>\u001b[0m in \u001b[0;36mdelete_and_return_last_user\u001b[0;34m(region, default_list)\u001b[0m\n\u001b[1;32m      6\u001b[0m   \u001b[0melement_to_delete\u001b[0m \u001b[0;34m=\u001b[0m \u001b[0mdefault_list\u001b[0m\u001b[0;34m[\u001b[0m\u001b[0;34m-\u001b[0m\u001b[0;36m1\u001b[0m\u001b[0;34m]\u001b[0m\u001b[0;34m\u001b[0m\u001b[0;34m\u001b[0m\u001b[0m\n\u001b[1;32m      7\u001b[0m   \u001b[0mdefault_list\u001b[0m\u001b[0;34m.\u001b[0m\u001b[0mremove\u001b[0m\u001b[0;34m(\u001b[0m\u001b[0melement_to_delete\u001b[0m\u001b[0;34m)\u001b[0m\u001b[0;34m\u001b[0m\u001b[0;34m\u001b[0m\u001b[0m\n\u001b[0;32m----> 8\u001b[0;31m   \u001b[0;32mreturn\u001b[0m \u001b[0mdefault_list\u001b[0m\u001b[0;34m[\u001b[0m\u001b[0mDEFAULT_USER_COUNT\u001b[0m\u001b[0;34m-\u001b[0m\u001b[0;36m2\u001b[0m\u001b[0;34m]\u001b[0m\u001b[0;34m\u001b[0m\u001b[0;34m\u001b[0m\u001b[0m\n\u001b[0m",
            "\u001b[0;31mIndexError\u001b[0m: list index out of range"
          ]
        }
      ]
    },
    {
      "cell_type": "markdown",
      "metadata": {
        "id": "IFcRNFiievMP"
      },
      "source": [
        "Как указано в документации, параметры по умолчанию вычисляются только один раз при создании функции. Потому любые манипуляции над изменяемыми объектами в параметрах по умолчанию сохранятся при последующих вызовах функции.\n",
        "\n",
        "Default parameter values are evaluated from left to right when the function definition is executed. This means that the expression is evaluated once, when the function is defined, and that the same “pre-computed” value is used for each call. This is especially important to understand when a default parameter value is a mutable object, such as a list or a dictionary: if the function modifies the object (e.g. by appending an item to a list), the default parameter value is in effect modified.\n",
        "\n",
        "https://docs.python.org/3/reference/compound_stmts.html#function-definitions\n",
        "\n",
        "В документации так же указан способ обойти это ограничение с помощью None, как в ячейке ниже. "
      ]
    },
    {
      "cell_type": "code",
      "metadata": {
        "id": "RRn1IHlzfwI8"
      },
      "source": [
        "DEFAULT_USER_COUNT = 3\n",
        "\n",
        "def delete_and_return_last_user(region, default_list=None):\n",
        "# Удаляет из списка default_list последнего пользователя\n",
        "# и возвращает ID нового последнего пользователя.\n",
        "  if not default_list:\n",
        "    default_list = ['A100', 'A101', 'A102']\n",
        "  element_to_delete = default_list[-1]\n",
        "  default_list.remove(element_to_delete)\n",
        "  return default_list[DEFAULT_USER_COUNT-2]"
      ],
      "execution_count": null,
      "outputs": []
    },
    {
      "cell_type": "code",
      "metadata": {
        "id": "u8oUTp70f5dx",
        "outputId": "0ba99638-d0ec-49ff-c4e1-0aefd5f12097",
        "colab": {
          "base_uri": "https://localhost:8080/",
          "height": 35
        }
      },
      "source": [
        "delete_and_return_last_user(1)\n",
        "delete_and_return_last_user(1)\n",
        "delete_and_return_last_user(1)\n",
        "delete_and_return_last_user(1)"
      ],
      "execution_count": null,
      "outputs": [
        {
          "output_type": "execute_result",
          "data": {
            "application/vnd.google.colaboratory.intrinsic+json": {
              "type": "string"
            },
            "text/plain": [
              "'A101'"
            ]
          },
          "metadata": {},
          "execution_count": 20
        }
      ]
    }
  ]
}