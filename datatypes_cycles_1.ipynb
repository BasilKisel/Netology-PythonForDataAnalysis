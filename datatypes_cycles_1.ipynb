{
  "nbformat": 4,
  "nbformat_minor": 0,
  "metadata": {
    "kernelspec": {
      "display_name": "Python 3",
      "language": "python",
      "name": "python3"
    },
    "language_info": {
      "codemirror_mode": {
        "name": "ipython",
        "version": 3
      },
      "file_extension": ".py",
      "mimetype": "text/x-python",
      "name": "python",
      "nbconvert_exporter": "python",
      "pygments_lexer": "ipython3",
      "version": "3.8.5"
    },
    "colab": {
      "name": "datatypes_cycles_1.ipynb",
      "provenance": [],
      "collapsed_sections": []
    }
  },
  "cells": [
    {
      "cell_type": "markdown",
      "metadata": {
        "id": "JryVAS8lIlZA"
      },
      "source": [
        "# Домашнее задание к лекции \"Введение в типы данных и циклы. Часть 1\""
      ]
    },
    {
      "cell_type": "markdown",
      "metadata": {
        "id": "9bzH8PRKIlZF"
      },
      "source": [
        "## Задание 1\n",
        "Дана переменная, в которой хранится слово из латинских букв. Напишите код, который выводит на экран:\n",
        "- среднюю букву, если число букв в слове нечетное;\n",
        "- две средних буквы, если число букв четное.\n",
        "\n",
        "Примеры работы программы:  \n",
        "1. `word = 'test'`\n",
        "\n",
        "Результат:  \n",
        "`es`\n",
        "2.     \n",
        "`word = 'testing'`\n",
        "\n",
        "Результат:  \n",
        "`t`"
      ]
    },
    {
      "cell_type": "code",
      "metadata": {
        "colab": {
          "base_uri": "https://localhost:8080/"
        },
        "id": "j9zN9nMcI2tE",
        "outputId": "17188b45-d786-41ed-e244-5d921e92725b"
      },
      "source": [
        "# Solution\n",
        "test_case_no = None # 1 or 2 or anything else for manual input\n",
        "\n",
        "if test_case_no == 1:\n",
        "  word = 'test'\n",
        "elif test_case_no == 2:\n",
        "  word = 'testing'\n",
        "else:\n",
        "  word = input('Type in your word: ')\n",
        "\n",
        "mid_idx = (len(word) - 1) // 2\n",
        "print(word[mid_idx:-mid_idx])"
      ],
      "execution_count": null,
      "outputs": [
        {
          "output_type": "stream",
          "name": "stdout",
          "text": [
            "Type in your word: testing9\n",
            "ti\n"
          ]
        }
      ]
    },
    {
      "cell_type": "markdown",
      "metadata": {
        "id": "jJCvk_ALIlZF"
      },
      "source": [
        "## Задание 2\n",
        "Напишите программу, которая последовательно запрашивает у пользователя числа (по одному за раз) и после первого нуля выводит сумму всех ранее введенных чисел.\n",
        "\n",
        "Примеры работы программы:  \n",
        "1.   \n",
        "\n",
        "```\n",
        "Введите число:  \n",
        "1\n",
        "\n",
        "Введите число:  \n",
        "4\n",
        "\n",
        "Введите число:  \n",
        "6\n",
        "\n",
        "Введите число:  \n",
        "0\n",
        "```\n",
        "\n",
        "Результат:  \n",
        "`11`\n",
        "\n",
        "2.      \n",
        "\n",
        "```\n",
        "Введите число:  \n",
        "0\n",
        "```  \n",
        "\n",
        "Результат:  \n",
        "`0`"
      ]
    },
    {
      "cell_type": "code",
      "metadata": {
        "colab": {
          "base_uri": "https://localhost:8080/"
        },
        "id": "awhMCtrJMOAt",
        "outputId": "2134b418-b11d-402d-8cd3-497f406dd513"
      },
      "source": [
        "# Solution\n",
        "from io import StringIO\n",
        "import sys\n",
        "\n",
        "test_case_no = None # 1 or 2 or anything else for manual input\n",
        "\n",
        "if test_case_no == 1:\n",
        "  in_buf = StringIO('1\\n4\\n6\\n0\\n')\n",
        "elif test_case_no == 2:\n",
        "  in_buf = StringIO('0\\n')\n",
        "else:\n",
        "  in_buf = None\n",
        "\n",
        "def input_loc(prompt_str = ''):\n",
        "  if not in_buf:\n",
        "    return input(prompt_str)\n",
        "  return in_buf.readline().replace('\\n', '')\n",
        "\n",
        "summ = 0\n",
        "while True:\n",
        "  x = int(input_loc('Введите число: '))\n",
        "  if x == 0:\n",
        "    break\n",
        "  summ += x\n",
        "\n",
        "print(summ)\n",
        "\n",
        "sys.stdin = sys.__stdin__"
      ],
      "execution_count": null,
      "outputs": [
        {
          "output_type": "stream",
          "name": "stdout",
          "text": [
            "Введите число: -1\n",
            "Введите число: 0\n",
            "-1\n"
          ]
        }
      ]
    },
    {
      "cell_type": "markdown",
      "metadata": {
        "id": "fZ69b_JdIlZG"
      },
      "source": [
        "## Задание 3\n",
        "\n",
        "Мы делаем [MVP](https://ru.wikipedia.org/wiki/%D0%9C%D0%B8%D0%BD%D0%B8%D0%BC%D0%B0%D0%BB%D1%8C%D0%BD%D0%BE_%D0%B6%D0%B8%D0%B7%D0%BD%D0%B5%D1%81%D0%BF%D0%BE%D1%81%D0%BE%D0%B1%D0%BD%D1%8B%D0%B9_%D0%BF%D1%80%D0%BE%D0%B4%D1%83%D0%BA%D1%82) dating-сервиса, и у нас есть список парней и девушек.  \n",
        "Выдвигаем гипотезу: лучшие рекомендации мы получим, если просто отсортируем имена по алфавиту и познакомим людей с одинаковыми индексами после сортировки!\n",
        "Но мы не будем никого знакомить, если кто-то может остаться без пары:\n",
        "\n",
        "Примеры работы программы:  \n",
        "1.  \n",
        "\n",
        "```\n",
        "boys = ['Peter', 'Alex', 'John', 'Arthur', 'Richard']\n",
        "girls = ['Kate', 'Liza', 'Kira', 'Emma', 'Trisha']\n",
        "```\n",
        "\n",
        "Результат:  \n",
        "```\n",
        "Идеальные пары:  \n",
        "Alex и Emma  \n",
        "Arthur и Kate  \n",
        "John и Kira  \n",
        "Peter и Liza  \n",
        "Richard и Trisha \n",
        "```\n",
        "2.     \n",
        "\n",
        "```\n",
        "boys = ['Peter', 'Alex', 'John', 'Arthur', 'Richard', 'Michael']\n",
        "girls = ['Kate', 'Liza', 'Kira', 'Emma', 'Trisha']\n",
        "```\n",
        "\n",
        "Результат:  \n",
        "`Внимание, кто-то может остаться без пары!`"
      ]
    },
    {
      "cell_type": "code",
      "metadata": {
        "colab": {
          "base_uri": "https://localhost:8080/"
        },
        "id": "QM-gT6K_UktJ",
        "outputId": "3c65c7e0-9014-45c6-bbc4-344c1844e0c1"
      },
      "source": [
        "# Solution\n",
        "test_case_no = 1 # 1 or 2 or anything else for empty lists\n",
        "\n",
        "if test_case_no == 1:\n",
        "  boys = ['Peter', 'Alex', 'John', 'Arthur', 'Richard']\n",
        "  girls = ['Kate', 'Liza', 'Kira', 'Emma', 'Trisha']\n",
        "elif test_case_no == 2:\n",
        "  boys = ['Peter', 'Alex', 'John', 'Arthur', 'Richard', 'Michael']\n",
        "  girls = ['Kate', 'Liza', 'Kira', 'Emma', 'Trisha']\n",
        "else:\n",
        "  boys = []\n",
        "  girls = []\n",
        "\n",
        "if len(boys) == len(girls) and len(boys) > 0:\n",
        "  for pair in zip(boys, girls):\n",
        "    print(f'{pair[0]} и {pair[1]}')\n",
        "elif len(boys) == 0 and len(girls) == 0:\n",
        "  print('Внимание, кто-то может остаться без работы!')\n",
        "else:\n",
        "  print('Внимание, кто-то может остаться без пары!')"
      ],
      "execution_count": null,
      "outputs": [
        {
          "output_type": "stream",
          "name": "stdout",
          "text": [
            "Peter и Kate\n",
            "Alex и Liza\n",
            "John и Kira\n",
            "Arthur и Emma\n",
            "Richard и Trisha\n"
          ]
        }
      ]
    },
    {
      "cell_type": "markdown",
      "metadata": {
        "id": "ezc23pi5IlZG"
      },
      "source": [
        "## Задание 4\n",
        "\n",
        "У нас есть список, содержащий информацию о среднедневной температуре в Фаренгейтах за произвольный период по странам (структура данных в примере).\n",
        "Необходимо написать код, который рассчитает среднюю температуру за период в Цельсиях(!) для каждой страны.\n",
        "\n",
        "Пример работы программы:  \n",
        "```\n",
        "countries_temperature = [\n",
        "    ['Thailand', [75.2, 77, 78.8, 73.4, 68, 75.2, 77]],\n",
        "    ['Germany', [57.2, 55.4, 59, 59, 53.6]],\n",
        "    ['Russia', [35.6, 37.4, 39.2, 41, 42.8, 39.2, 35.6]],\n",
        "    ['Poland', [50, 50, 53.6, 57.2, 55.4, 55.4]]\n",
        "]\n",
        "```\n",
        "\n",
        "Результат:  \n",
        "```\n",
        "Средняя температура в странах:\n",
        "Thailand  -  23.9 С\n",
        "Germany  -  13.8 С\n",
        "Russia  -  3.7 С\n",
        "Poland  -  12.0 С\n",
        "```"
      ]
    },
    {
      "cell_type": "code",
      "metadata": {
        "colab": {
          "base_uri": "https://localhost:8080/"
        },
        "id": "oYXzJ2t2WOeh",
        "outputId": "fabcf087-eb13-41db-a6d6-886ea7555332"
      },
      "source": [
        "countries_temperature = [\n",
        "    ['Thailand', [75.2, 77, 78.8, 73.4, 68, 75.2, 77]],\n",
        "    ['Germany', [57.2, 55.4, 59, 59, 53.6]],\n",
        "    ['Russia', [35.6, 37.4, 39.2, 41, 42.8, 39.2, 35.6]],\n",
        "    ['Poland', [50, 50, 53.6, 57.2, 55.4, 55.4]]\n",
        "]\n",
        "\n",
        "for country, temps in countries_temperature:\n",
        "  if len(temps) > 0:\n",
        "    print(f'{country} - {round(sum(temps) / len(temps), 2)}')"
      ],
      "execution_count": null,
      "outputs": [
        {
          "output_type": "stream",
          "name": "stdout",
          "text": [
            "Thailand - 74.94\n",
            "Germany - 56.84\n",
            "Russia - 38.69\n",
            "Poland - 53.6\n"
          ]
        }
      ]
    },
    {
      "cell_type": "markdown",
      "metadata": {
        "id": "kTdj8uxQIlZH"
      },
      "source": [
        "## Задание 5 (необязательное)\n",
        "\n",
        "Дан поток логов по количеству просмотренных страниц для каждого пользователя. Вам необходимо написать алгоритм, который считает среднее значение просмотров на пользователя. \n",
        "Т. е. надо посчитать отношение суммы всех просмотров к количеству уникальных пользователей.\n",
        "\n",
        "Примеры работы программы:  \n",
        "1.  \n",
        "\n",
        "```\n",
        "stream = [\n",
        "    '2018-01-01,user1,3',\n",
        "    '2018-01-07,user1,4',\n",
        "    '2018-03-29,user1,1',\n",
        "    '2018-04-04,user1,13',\n",
        "    '2018-01-05,user2,7',\n",
        "    '2018-06-14,user3,4',\n",
        "    '2018-07-02,user3,10',\n",
        "    '2018-03-21,user4,19',\n",
        "    '2018-03-22,user4,4',\n",
        "    '2018-04-22,user4,8',\n",
        "    '2018-05-03,user4,9',\n",
        "    '2018-05-11,user4,11',\n",
        "]\n",
        "```\n",
        "\n",
        "Результат:  \n",
        "`Среднее количество просмотров на уникального пользователя: 23.25`\n",
        "2.     \n",
        "\n",
        "```\n",
        "stream = [\n",
        "    '2018-01-01,user100,150',\n",
        "    '2018-01-07,user99,205',\n",
        "    '2018-03-29,user1001,81'\n",
        "]\n",
        "```\n",
        "\n",
        "Результат:  \n",
        "`Среднее количество просмотров на уникального пользователя: 145.33`"
      ]
    },
    {
      "cell_type": "code",
      "metadata": {
        "colab": {
          "base_uri": "https://localhost:8080/"
        },
        "id": "wD4e0dy3YtKL",
        "outputId": "e4b64258-91c5-46c1-c2fc-9194ac65810f"
      },
      "source": [
        "# Solution\n",
        "test_case_no = None # 1 or 2 or anything else for empty stream\n",
        "\n",
        "if test_case_no == 1:\n",
        "  stream = [\n",
        "      '2018-01-01,user1,3',\n",
        "      '2018-01-07,user1,4',\n",
        "      '2018-03-29,user1,1',\n",
        "      '2018-04-04,user1,13',\n",
        "      '2018-01-05,user2,7',\n",
        "      '2018-06-14,user3,4',\n",
        "      '2018-07-02,user3,10',\n",
        "      '2018-03-21,user4,19',\n",
        "      '2018-03-22,user4,4',\n",
        "      '2018-04-22,user4,8',\n",
        "      '2018-05-03,user4,9',\n",
        "      '2018-05-11,user4,11',\n",
        "  ]\n",
        "elif test_case_no == 2:\n",
        "  stream = [\n",
        "      '2018-01-01,user100,150',\n",
        "      '2018-01-07,user99,205',\n",
        "      '2018-03-29,user1001,81'\n",
        "  ]\n",
        "else:\n",
        "  stream = []\n",
        "\n",
        "vw_total_cnt = 0\n",
        "usr_set = set()\n",
        "for log_line in stream:\n",
        "  dt, usr, vw_cnt = log_line.split(',')\n",
        "  vw_total_cnt += int(vw_cnt)\n",
        "  usr_set.add(usr)\n",
        "\n",
        "print(f'Среднее количество просмотров на уникального пользователя: {round(vw_total_cnt / len(usr_set), 2) if len(usr_set) > 0 else \"Uknown\"}')"
      ],
      "execution_count": null,
      "outputs": [
        {
          "output_type": "stream",
          "name": "stdout",
          "text": [
            "Среднее количество просмотров на уникального пользователя: Uknown\n"
          ]
        }
      ]
    },
    {
      "cell_type": "markdown",
      "metadata": {
        "id": "s1kZCPzOIlZH"
      },
      "source": [
        "## Задание 6 (необязательное)\n",
        "\n",
        "Необходимо у пользователя запрашивать набор чисел разделенных пробелом. В результате в отсортированном порядке должны выводиться числа, которые повторяются в вводе более одного раза.\n",
        "\n",
        "Примеры работы программы:  \n",
        "1.  \n",
        "\n",
        "```\n",
        "Введите числа:\n",
        "4 8 0 3 4 2 0 3\n",
        "```\n",
        "\n",
        "Результат:  \n",
        "`0 3 4`\n",
        "\n",
        "2.     \n",
        "\n",
        "```\n",
        "Введите числа:\n",
        "1 1 2 2 3 3\n",
        "```\n",
        "\n",
        "Результат:  \n",
        "`1 2 3`\n",
        "\n",
        "3.     \n",
        "\n",
        "```\n",
        "Введите числа:\n",
        "10 15 15 103 200 200 200 1 1 1 1 1 2 2 2\n",
        "```\n",
        "\n",
        "Результат:  \n",
        "`1 2 15 200`"
      ]
    },
    {
      "cell_type": "code",
      "metadata": {
        "colab": {
          "base_uri": "https://localhost:8080/"
        },
        "id": "WMmxv0PKaGbX",
        "outputId": "da29d698-0dd1-43cf-8c13-281aff9f71c0"
      },
      "source": [
        "# Solution\n",
        "test_case_no = None # 1 or 2 or 3 or anything else for manual input\n",
        "\n",
        "if test_case_no == 1:\n",
        "  in_str = '4 8 0 3 4 2 0 3'\n",
        "elif test_case_no == 2:\n",
        "  in_str = '1 1 2 2 3 3'\n",
        "elif test_case_no == 3:\n",
        "  in_str = '10 15 15 103 200 200 200 1 1 1 1 1 2 2 2'\n",
        "else:\n",
        "  in_str = input('Введите числа:')\n",
        "\n",
        "num_set = set()\n",
        "dup_lst = []\n",
        "for num in map(int, in_str.split(' ')):\n",
        "  if (num in num_set and num not in dup_lst):\n",
        "    dup_lst.append(num)\n",
        "  else:\n",
        "    num_set.add(num)\n",
        "\n",
        "print(' '.join(map(str, sorted(dup_lst))))"
      ],
      "execution_count": null,
      "outputs": [
        {
          "output_type": "stream",
          "name": "stdout",
          "text": [
            "Введите числа:+1 1 2 -2 3 3\n",
            "1 3\n"
          ]
        }
      ]
    },
    {
      "cell_type": "markdown",
      "metadata": {
        "id": "BPFV2Gq4IlZI"
      },
      "source": [
        "#### ПРИМЕЧАНИЕ\n",
        "Домашнее задание сдается ссылкой [Google Colab](https://colab.research.google.com/).\n",
        "Не сможем проверить или помочь, если вы пришлете:\n",
        "- файлы;\n",
        "- архивы;\n",
        "- скриншоты кода.\n",
        "\n",
        "Все обсуждения и консультации по выполнению домашнего задания ведутся только на соответствующем канале в slack.\n",
        "\n",
        "##### Как правильно задавать вопросы аспирантам, преподавателям и коллегам\n",
        "Прежде чем задать вопрос, попробуйте найти ответ в интернете. Навык самостоятельного поиска информации — один из важнейших. Каждый практикующий специалист любого уровня делает это ежедневно.\n",
        "\n",
        "Сформулируйте вопрос по алгоритму:  \n",
        "1) Что я делаю?  \n",
        "2) Какого результата я ожидаю?  \n",
        "3) Как фактический результат отличается от ожидаемого?  \n",
        "4) Что я уже попробовал сделать, чтобы исправить проблему?  \n",
        "\n",
        "По возможности прикрепите к вопросу скриншоты либо ссылки на код. Не выкладывайте все решение, оставляйте только проблемный и воспроизводимый участок кода.\n"
      ]
    }
  ]
}