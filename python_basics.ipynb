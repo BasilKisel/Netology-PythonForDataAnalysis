{
  "nbformat": 4,
  "nbformat_minor": 0,
  "metadata": {
    "kernelspec": {
      "display_name": "Python 3",
      "language": "python",
      "name": "python3"
    },
    "language_info": {
      "codemirror_mode": {
        "name": "ipython",
        "version": 3
      },
      "file_extension": ".py",
      "mimetype": "text/x-python",
      "name": "python",
      "nbconvert_exporter": "python",
      "pygments_lexer": "ipython3",
      "version": "3.8.5"
    },
    "colab": {
      "name": "python_basics.ipynb",
      "provenance": [],
      "collapsed_sections": []
    }
  },
  "cells": [
    {
      "cell_type": "markdown",
      "metadata": {
        "id": "1YgmyD63Rk1P"
      },
      "source": [
        "# Домашнее задание к лекции \"Основы Python\""
      ]
    },
    {
      "cell_type": "markdown",
      "metadata": {
        "id": "SUgqt4lqRk1V"
      },
      "source": [
        "## Задание 1"
      ]
    },
    {
      "cell_type": "markdown",
      "metadata": {
        "id": "pkT70a8vRk1W"
      },
      "source": [
        "Даны 2 переменных, в которых хранятся строки произвольной длины: *phrase_1* и *phrase_2*.  \n",
        "Напишите код, который проверяет какая из этих строк длиннее."
      ]
    },
    {
      "cell_type": "markdown",
      "metadata": {
        "id": "HqW9AKY5Rk1X"
      },
      "source": [
        "Примеры работы программы:  \n",
        "1.  \n",
        "\n",
        "```\n",
        "phrase_1 = 'Насколько проще было бы писать программы, если бы не заказчики'\n",
        "phrase_2 = '640Кб должно хватить для любых задач. Билл Гейтс (по легенде)'\n",
        "\n",
        "```\n",
        "\n",
        "Результат:  \n",
        "`Фраза 1 длиннее фразы 2`\n",
        "2.     \n",
        "\n",
        "```\n",
        "phrase_1 = '640Кб должно хватить для любых задач. Билл Гейтс (по легенде)'\n",
        "phrase_2 = 'Насколько проще было бы писать программы, если бы не заказчики'\n",
        "```\n",
        "\n",
        "Результат:  \n",
        "`Фраза 2 длиннее фразы 1`\n",
        "3.     \n",
        "\n",
        "```\n",
        "phrase_1 = 'Насколько проще было бы писать программы, если бы не заказчики'\n",
        "phrase_2 = 'Насколько проще было бы писать программы, если бы не заказчики'\n",
        "```\n",
        "\n",
        "Результат:  \n",
        "`Фразы равной длины`"
      ]
    },
    {
      "cell_type": "code",
      "metadata": {
        "colab": {
          "base_uri": "https://localhost:8080/"
        },
        "id": "2jF7VfXxRyrA",
        "outputId": "9451e5b1-d35d-4114-d37c-b8f6b795ffb0"
      },
      "source": [
        "# Solution\n",
        "test_case_no = None # 1 or 2 or 3 or everything else for user input\n",
        "\n",
        "if test_case_no == 1:\n",
        "  phrase_1 = 'Насколько проще было бы писать программы, если бы не заказчики'\n",
        "  phrase_2 = '640Кб должно хватить для любых задач. Билл Гейтс (по легенде)'\n",
        "elif test_case_no == 2:\n",
        "  phrase_1 = '640Кб должно хватить для любых задач. Билл Гейтс (по легенде)'\n",
        "  phrase_2 = 'Насколько проще было бы писать программы, если бы не заказчики'\n",
        "elif test_case_no == 3:\n",
        "  phrase_1 = 'Насколько проще было бы писать программы, если бы не заказчики'\n",
        "  phrase_2 = 'Насколько проще было бы писать программы, если бы не заказчики'\n",
        "else:\n",
        "  phrase_1 = input('Type in a phrase_1: ')\n",
        "  phrase_2 = input('Type in a phrase_2: ')\n",
        "\n",
        "if len(phrase_1) > len(phrase_2):\n",
        "  print('Фраза 1 длиннее фразы 2')\n",
        "elif len(phrase_1) < len(phrase_2):\n",
        "  print('Фраза 2 длиннее фразы 1')\n",
        "else:\n",
        "  print('Фразы равной длины')"
      ],
      "execution_count": null,
      "outputs": [
        {
          "output_type": "stream",
          "name": "stdout",
          "text": [
            "Type in a phrase_1: 1234\n",
            "Type in a phrase_2: 12345\n",
            "Фраза 2 длиннее фразы 1\n"
          ]
        }
      ]
    },
    {
      "cell_type": "markdown",
      "metadata": {
        "id": "cuwGE-80Rk1Z"
      },
      "source": [
        "## Задание 2"
      ]
    },
    {
      "cell_type": "markdown",
      "metadata": {
        "id": "27kAaxFCRk1a"
      },
      "source": [
        "Дана переменная, в которой хранится число (год). Необходимо написать программу, которая выведет, является ли данный год високосным или обычным.\n",
        "\n",
        "Пример работы программы:\n",
        "1.  \n",
        "\n",
        "```\n",
        "year = 2020\n",
        "```\n",
        "Результат:  \n",
        "`Високосный год` \n",
        "\n",
        "2.  \n",
        "\n",
        "```\n",
        "year = 2019\n",
        "```\n",
        "Результат:  \n",
        "`Обычный год` "
      ]
    },
    {
      "cell_type": "code",
      "metadata": {
        "colab": {
          "base_uri": "https://localhost:8080/"
        },
        "id": "bE2r7-loUG7q",
        "outputId": "9b1f0d08-ecc7-431a-da46-cc059991d934"
      },
      "source": [
        "# Solution\n",
        "test_case_no = None # 1 or 2 or everything else for user input\n",
        "\n",
        "if test_case_no == 1:\n",
        "  year = 2020\n",
        "elif test_case_no == 2:\n",
        "  year = 2019\n",
        "else:\n",
        "  year = int(input('Type in a gregorian year: '))\n",
        "\n",
        "# https://en.wikipedia.org/wiki/Leap_year\n",
        "if year % 4 == 0 and (year % 100 != 0 or year % 400 == 0):\n",
        "  print('Високосный год')\n",
        "else:\n",
        "  print('Обычный год')"
      ],
      "execution_count": null,
      "outputs": [
        {
          "output_type": "stream",
          "name": "stdout",
          "text": [
            "Type in a gregorian year: 2020\n",
            "Високосный год\n"
          ]
        }
      ]
    },
    {
      "cell_type": "markdown",
      "metadata": {
        "id": "eyDpY4EARk1b"
      },
      "source": [
        "## Задание 3"
      ]
    },
    {
      "cell_type": "markdown",
      "metadata": {
        "id": "m6zCrsxiRk1b"
      },
      "source": [
        "Необходимо написать программу, которая будет запрашивать у пользователя месяц и дату рождения и выводить соответствующий знак зодиака.\n",
        "\n",
        "Пример работы программы:  \n",
        "1.  \n",
        "\n",
        "```\n",
        "Введите день:\n",
        "30\n",
        "\n",
        "Введите месяц:\n",
        "Август\n",
        "```\n",
        "Результат:  \n",
        "`Ваш знак зодиака: Дева` \n",
        "\n",
        "2.  \n",
        "\n",
        "```\n",
        "Введите день:\n",
        "29\n",
        "\n",
        "Введите месяц:\n",
        "Октябрь\n",
        "```\n",
        "Результат:  \n",
        "`Ваш знак зодиака: Скорпион` \n"
      ]
    },
    {
      "cell_type": "code",
      "metadata": {
        "colab": {
          "base_uri": "https://localhost:8080/"
        },
        "id": "wOQQeclmXa2X",
        "outputId": "e5f3295b-5786-493f-e15e-01258218e78d"
      },
      "source": [
        "# Solution\n",
        "test_case_no = None # 1 or 2 or everything else for user input\n",
        "\n",
        "if test_case_no == 1:\n",
        "  dob_month_day = 30\n",
        "  dob_month_name = 'август'\n",
        "elif test_case_no == 2:\n",
        "  dob_month_day = 29\n",
        "  dob_month_name = 'октябрь'\n",
        "else:\n",
        "  dob_month_day = int(input('Введите день:'))\n",
        "  dob_month_name = input('Введите месяц:').lower()\n",
        "\n",
        "# https://en.wikipedia.org/wiki/Astrological_sign#Western_astrological_correspondence_chart\n",
        "months = {m: i+1 for i,m in enumerate(['январь', 'февраль', 'март', 'апрель', 'май', 'июнь', 'июль', 'август', 'сентябрь', 'октябрь', 'ноябрь', 'декабрь'])}\n",
        "sign_periods = {\n",
        "    # (start_MMDD, end_MMDD), astrological_sign\n",
        "    (321, 419): 'Aries',\n",
        "    (420, 520): 'Taurus',\n",
        "    (521, 621): 'Gemini',\n",
        "    (622, 722): 'Cancer',\n",
        "    (723, 822): 'Leo',\n",
        "    (823, 922): 'Virgo',\n",
        "    (923, 1022): 'Libra',\n",
        "    (1023, 1122): 'Scorpio',\n",
        "    (1123, 1221): 'Sagittarius',\n",
        "    (1222, 119): 'Capricorn',\n",
        "    (120, 218): 'Aquarius',\n",
        "    (219, 320): 'Pisces'\n",
        "}\n",
        "\n",
        "dob_month_num = months[dob_month_name]\n",
        "dob_int = dob_month_num * 100 + dob_month_day # convert DoB to the int format of MMDD for simpler compare conditions\n",
        "for period in sign_periods:\n",
        "  if (dob_int >= period[0]\n",
        "      and dob_int <= period[1]\n",
        "      ):\n",
        "    print('Ваш знак зодиака: ', sign_periods[period]) # I can use index since tuples are hashable))\n",
        "    break\n",
        "else:\n",
        "  print(f'Что-то пошло не так :| dob_month_num: {dob_month_num}, dob_month_day: {dob_month_day}')"
      ],
      "execution_count": null,
      "outputs": [
        {
          "output_type": "stream",
          "name": "stdout",
          "text": [
            "Введите день:19\n",
            "Введите месяц:ДЕКАБРЬ\n",
            "Ваш знак зодиака:  Sagittarius\n"
          ]
        }
      ]
    },
    {
      "cell_type": "markdown",
      "metadata": {
        "id": "Bk0EXB21Rk1c"
      },
      "source": [
        "## Задание 4"
      ]
    },
    {
      "cell_type": "markdown",
      "metadata": {
        "id": "jre5XGW5Rk1c"
      },
      "source": [
        "Вам нужно написать программу для подбора упаковок по размерам товара. Размеры (ширина, длина, высота) хранятся в переменных (в сантиметрах):\n",
        "\n",
        "Используйте следующие правила:\n",
        "- если каждое из трех измерений менее или равно 15 сантиметрам, то выведите на экран \"Коробка №1\";\n",
        "- если хотя бы одно из измерений больше 15 сантиметров, но менее 50 сантиметров, то выводите \"Коробка №2\";\n",
        "- если длина товара больше 2 метров, то выводите \"Упаковка для лыж\";\n",
        "- во всех остальных случаях выводите \"Стандартная коробка №3\".\n",
        "\n",
        "Пример работы программы:  \n",
        "1.  \n",
        "\n",
        "```\n",
        "width = 15\n",
        "length = 50\n",
        "height = 15\n",
        "```\n",
        "Результат:  \n",
        "`Стандартная коробка №3` \n",
        "\n",
        "2.  \n",
        "\n",
        "```\n",
        "width = 45\n",
        "length = 205\n",
        "height = 45\n",
        "```\n",
        "Результат:  \n",
        "`Ищите упаковку для лыж` "
      ]
    },
    {
      "cell_type": "code",
      "metadata": {
        "colab": {
          "base_uri": "https://localhost:8080/"
        },
        "id": "9wuJK7Tyh4ua",
        "outputId": "4387a173-e6b4-455d-b286-bdb97d865818"
      },
      "source": [
        "# Solution\n",
        "test_case_no = None # 1 or 2 or everything else for user input\n",
        "\n",
        "if test_case_no == 1:\n",
        "  width = 15\n",
        "  length = 50\n",
        "  height = 15\n",
        "elif test_case_no == 2:\n",
        "  width = 45\n",
        "  length = 205\n",
        "  height = 45\n",
        "else:\n",
        "  width = float(input('Type in width: '))\n",
        "  length = float(input('Type in length: '))\n",
        "  height = float(input('Type in height: '))\n",
        "\n",
        "\n",
        "# если каждое из трех измерений менее или равно 15 сантиметрам, то выведите на экран \"Коробка №1\";\n",
        "max_dim_len = max(width, length, height)\n",
        "if (max_dim_len <= 15):\n",
        "  print('Коробка №1')\n",
        "# если хотя бы одно из измерений больше 15 сантиметров, но менее 50 сантиметров, то выводите \"Коробка №2\";\n",
        "elif (max_dim_len < 50):\n",
        "  print('Коробка №2')\n",
        "# если длина товара больше 2 метров, то выводите \"Упаковка для лыж\";\n",
        "elif (max_dim_len > 200):\n",
        "  print('Упаковка для лыж')\n",
        "# во всех остальных случаях выводите \"Стандартная коробка №3\".\n",
        "else:\n",
        "  print('Стандартная коробка №3')"
      ],
      "execution_count": null,
      "outputs": [
        {
          "output_type": "stream",
          "name": "stdout",
          "text": [
            "Type in width: -1\n",
            "Type in length: -1\n",
            "Type in height: 49.9999\n",
            "Коробка №2\n"
          ]
        }
      ]
    },
    {
      "cell_type": "markdown",
      "metadata": {
        "id": "EAi07415Rk1d"
      },
      "source": [
        "## Задание 5 (необязательное)"
      ]
    },
    {
      "cell_type": "markdown",
      "metadata": {
        "id": "ViATuQMBRk1f"
      },
      "source": [
        "Дана переменная, в которой хранится шестизначное число (номер проездного билета). Напишите программу, которая будет определять, является ли данный билет \"счастливым\". Билет считается счастливым, если сумма первых трех цифр совпадает с суммой последних трех цифр номера.   \n",
        "\n",
        "Примеры работы программы:  \n",
        "1. ```number = 123456```\n",
        "\n",
        "Результат:  \n",
        "`Несчастливый билет`\n",
        "2. ```number = 123321```\n",
        "\n",
        "Результат:  \n",
        "`Счастливый билет`\n"
      ]
    },
    {
      "cell_type": "code",
      "metadata": {
        "colab": {
          "base_uri": "https://localhost:8080/"
        },
        "id": "Sbr9U-dOjnSh",
        "outputId": "ac2a3989-234f-4929-ae32-b36dc847d56d"
      },
      "source": [
        "# Solution\n",
        "test_case_no = 1 # 1 or 2 or everything else for user input\n",
        "\n",
        "if test_case_no == 1:\n",
        "  number = 123456\n",
        "elif test_case_no == 2:\n",
        "  number = 123321\n",
        "else:\n",
        "  number = int(input('Type in 6 digits of the ticket number: '))\n",
        "\n",
        "right_part = number % 1000\n",
        "left_part = number // 1000\n",
        "\n",
        "dec_pos_mult = [1, 10, 100]\n",
        "right_digits = [((right_part % (mult * 10)) // mult) for mult in dec_pos_mult]\n",
        "left_digits = [((left_part % (mult * 10)) // mult) for mult in dec_pos_mult]\n",
        "\n",
        "if sum(left_digits) == sum(right_digits):\n",
        "  print('Счастливый билет')\n",
        "else:\n",
        "  print('Несчастливый билет')"
      ],
      "execution_count": null,
      "outputs": [
        {
          "output_type": "stream",
          "name": "stdout",
          "text": [
            "Несчастливый билет\n"
          ]
        }
      ]
    },
    {
      "cell_type": "markdown",
      "metadata": {
        "id": "bRqD3kBLRk1g"
      },
      "source": [
        "## Задание 6 (необязательное)"
      ]
    },
    {
      "cell_type": "markdown",
      "metadata": {
        "id": "ypweYZc-Rk1g"
      },
      "source": [
        "Напишите программу, которая сможет вычислять площади трех фигур (круг, треугольник и прямоугольник).\n",
        "Тип фигуры запрашиваем через пользовательский ввод, после чего делаем запрос характеристик фигуры:\n",
        "\n",
        "- если пользователь выбрал круг, запрашиваем его радиус,\n",
        "- если треугольник – длины трех его сторон;\n",
        "- если прямоугольник – длины двух его сторон.\n",
        "\n",
        "Пример работы программы:\n",
        "1.  \n",
        "\n",
        "```\n",
        "Введите тип фигуры:\n",
        "Круг\n",
        "\n",
        "Введите радиус круга:\n",
        "10\n",
        "```\n",
        "Результат:  \n",
        "`Площадь круга: 314.16`\n",
        "\n",
        "2.  \n",
        "\n",
        "```\n",
        "Введите тип фигуры:\n",
        "Треугольник\n",
        "\n",
        "Введите длину стороны A:\n",
        "2\n",
        "\n",
        "Введите длину стороны B:\n",
        "2\n",
        "\n",
        "Введите длину стороны C:\n",
        "3\n",
        "```\n",
        "Результат:  \n",
        "`Площадь треугольника: 1.98`"
      ]
    },
    {
      "cell_type": "code",
      "metadata": {
        "colab": {
          "base_uri": "https://localhost:8080/"
        },
        "id": "TGEvTrajmu75",
        "outputId": "bf429a1c-1adc-43b9-b13c-80b3eaab5c56"
      },
      "source": [
        "# Solution\n",
        "import math\n",
        "test_case_no = None # 1 or 2 or everything else for user input\n",
        "\n",
        "if test_case_no == 1:\n",
        "  shape_type = 'круг'\n",
        "  radius = 10\n",
        "elif test_case_no == 2:\n",
        "  shape_type = 'треугольник'\n",
        "  len_a = 2\n",
        "  len_b = 2\n",
        "  len_c = 3\n",
        "else:\n",
        "  shape_type = None\n",
        "\n",
        "if not shape_type:\n",
        "  shape_type = input('Введите тип фигуры: ').lower()\n",
        "  if shape_type == 'круг':\n",
        "    radius = float(input('Введите радиус круга: '))\n",
        "  elif shape_type == 'треугольник':\n",
        "    len_a = float(input('Введите длину стороны A: '))\n",
        "    len_b = float(input('Введите длину стороны B: '))\n",
        "    leb_c = float(input('Введите длину стороны C: '))\n",
        "  elif shape_type == 'прямоугольник':\n",
        "    len_a = float(input('Введите длину стороны A: '))\n",
        "    len_b = float(input('Введите длину стороны B: '))\n",
        "  else:\n",
        "    raise Exception('Uknown shape. Exit program.')\n",
        "\n",
        "if shape_type == 'круг':\n",
        "  area = radius ** 2 * math.pi\n",
        "elif shape_type == 'треугольник':\n",
        "  # https://en.wikipedia.org/wiki/Heron%27s_formula\n",
        "  s = (len_a + len_b + len_c) / 2\n",
        "  area = math.sqrt(s * (s - len_a) * (s - len_b) * (s - len_c))\n",
        "elif shape_type == 'прямоугольник':\n",
        "  area = len_a * len_b\n",
        "\n",
        "print('Answer: ', round(area, 2))\n",
        "\n"
      ],
      "execution_count": null,
      "outputs": [
        {
          "output_type": "stream",
          "name": "stdout",
          "text": [
            "Введите тип фигуры: треугольниК\n",
            "Введите длину стороны A: 2\n",
            "Введите длину стороны B: 2\n",
            "Введите длину стороны C: 5\n",
            "Answer:  1.98\n"
          ]
        }
      ]
    },
    {
      "cell_type": "markdown",
      "metadata": {
        "id": "1w1x-jg7Rk1h"
      },
      "source": [
        "#### ПРИМЕЧАНИЕ\n",
        "Домашнее задание сдается ссылкой [Google Colab](https://colab.research.google.com/).\n",
        "Не сможем проверить или помочь, если вы пришлете:\n",
        "- файлы;\n",
        "- архивы;\n",
        "- скриншоты кода.\n",
        "\n",
        "Все обсуждения и консультации по выполнению домашнего задания ведутся только на соответствующем канале в slack.\n",
        "\n",
        "##### Как правильно задавать вопросы аспирантам, преподавателям и коллегам\n",
        "Прежде чем задать вопрос, попробуйте найти ответ в интернете. Навык самостоятельного поиска информации — один из важнейших. Каждый практикующий специалист любого уровня делает это ежедневно.\n",
        "\n",
        "Сформулируйте вопрос по алгоритму:  \n",
        "1) Что я делаю?  \n",
        "2) Какого результата я ожидаю?  \n",
        "3) Как фактический результат отличается от ожидаемого?  \n",
        "4) Что я уже попробовал сделать, чтобы исправить проблему?  \n",
        "\n",
        "По возможности прикрепите к вопросу скриншоты либо ссылки на код. Не выкладывайте все решение, оставляйте только проблемный и воспроизводимый участок кода."
      ]
    }
  ]
}