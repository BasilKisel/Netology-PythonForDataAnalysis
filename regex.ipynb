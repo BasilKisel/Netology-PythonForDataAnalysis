{
  "nbformat": 4,
  "nbformat_minor": 0,
  "metadata": {
    "kernelspec": {
      "display_name": "Python 3",
      "language": "python",
      "name": "python3"
    },
    "language_info": {
      "codemirror_mode": {
        "name": "ipython",
        "version": 3
      },
      "file_extension": ".py",
      "mimetype": "text/x-python",
      "name": "python",
      "nbconvert_exporter": "python",
      "pygments_lexer": "ipython3",
      "version": "3.7.6"
    },
    "colab": {
      "name": "regex.ipynb",
      "provenance": [],
      "collapsed_sections": []
    }
  },
  "cells": [
    {
      "cell_type": "markdown",
      "metadata": {
        "id": "DAV9JBL_brDT"
      },
      "source": [
        "# Домашнее задание к лекции \"Регулярные выражения\"\n",
        "\n",
        "Внимание! При реализации всех заданий необходимо использовать именно функционал регулярных выражений для обработки текста."
      ]
    },
    {
      "cell_type": "code",
      "metadata": {
        "id": "mrY9bxhRb5t9"
      },
      "source": [
        "import re"
      ],
      "execution_count": null,
      "outputs": []
    },
    {
      "cell_type": "markdown",
      "metadata": {
        "id": "6BCTQAPMbrDa"
      },
      "source": [
        "## Задание 1\n",
        "\n",
        "Напишите функцию, которая принимает на вход строку и проверяет является ли она валидным транспортным номером (1 буква, 3 цифры, 2 буквы, 2-3 цифры). Обратите внимание, что не все буквы кириллического алфавита используются в транспортных номерах.\n",
        "\n",
        "Если номер валиден, то функция должна возвращать отдельно номер и регион.\n",
        "\n",
        "Примеры работы программы:  \n",
        "\n",
        "1. `car_id = 'A222BC96'`\n",
        "\n",
        "Результат: \n",
        "`Номер A222BС валиден. Регион: 96`\n",
        "\n",
        "2. `car_id = 'АБ22ВВ193'`\n",
        "\n",
        "Результат: \n",
        "`Номер не валиден`"
      ]
    },
    {
      "cell_type": "code",
      "metadata": {
        "id": "3YGecihmb4VG"
      },
      "source": [
        "def check_registration_plate(reg_plate):\n",
        "  \"\"\"\n",
        "  Проверка валидности номера ТС. В результате будет возвращен кортеж (str, str) с номером и регионом, или None\n",
        "  См. https://ru.wikipedia.org/wiki/%D0%A0%D0%B5%D0%B3%D0%B8%D1%81%D1%82%D1%80%D0%B0%D1%86%D0%B8%D0%BE%D0%BD%D0%BD%D1%8B%D0%B5_%D0%B7%D0%BD%D0%B0%D0%BA%D0%B8_%D1%82%D1%80%D0%B0%D0%BD%D1%81%D0%BF%D0%BE%D1%80%D1%82%D0%BD%D1%8B%D1%85_%D1%81%D1%80%D0%B5%D0%B4%D1%81%D1%82%D0%B2_%D0%B2_%D0%A0%D0%BE%D1%81%D1%81%D0%B8%D0%B8#:~:text=%D0%91%D1%83%D0%BA%D0%B2%D1%8B%20%D0%BE%D0%B7%D0%BD%D0%B0%D1%87%D0%B0%D1%8E%D1%82%20%D1%81%D0%B5%D1%80%D0%B8%D1%8E%20%D0%BD%D0%BE%D0%BC%D0%B5%D1%80%D0%BD%D0%BE%D0%B3%D0%BE%20%D0%B7%D0%BD%D0%B0%D0%BA%D0%B0%2C,%D0%A0%D0%A4%2C%20%D0%B3%D0%B4%D0%B5%20%D0%B1%D1%8B%D0%BB%20%D0%B7%D0%B0%D1%80%D0%B5%D0%B3%D0%B8%D1%81%D1%82%D1%80%D0%B8%D1%80%D0%BE%D0%B2%D0%B0%D0%BD%20%D0%B0%D0%B2%D1%82%D0%BE%D0%BC%D0%BE%D0%B1%D0%B8%D0%BB%D1%8C\n",
        "  \"\"\"\n",
        "  pattern = r'([АВЕКМНОРСТУХABEKMHOPCTYX]\\d{3}[АВЕКМНОРСТУХABEKMHOPCTYX]{2})(\\d{2,3})' # Кириллица и латиница\n",
        "  match_res = re.fullmatch(pattern, reg_plate)\n",
        "  if match_res:\n",
        "    return match_res.group(1, 2)\n",
        "  return None\n",
        "  "
      ],
      "execution_count": null,
      "outputs": []
    },
    {
      "cell_type": "code",
      "metadata": {
        "colab": {
          "base_uri": "https://localhost:8080/"
        },
        "id": "Gw63Xks8d9FB",
        "outputId": "4e302426-bfb5-4a02-f2ff-3a47e026b6e1"
      },
      "source": [
        "for car_id in ['A222BC96', 'АБ22ВВ193']:\n",
        "  print(f'car_id = {car_id}')\n",
        "  res = check_registration_plate(car_id)\n",
        "  if res:\n",
        "    print(f'Номер {res[0]} валиден. Регион: {res[1]}')\n",
        "  else:\n",
        "    print(f'Номер {car_id} не валиден.')"
      ],
      "execution_count": null,
      "outputs": [
        {
          "output_type": "stream",
          "name": "stdout",
          "text": [
            "car_id = A222BC96\n",
            "Номер A222BC валиден. Регион: 96\n",
            "car_id = АБ22ВВ193\n",
            "Номер АБ22ВВ193 не валиден.\n"
          ]
        }
      ]
    },
    {
      "cell_type": "markdown",
      "metadata": {
        "id": "TzGtRJrlbrDc"
      },
      "source": [
        "## Задание 2\n",
        "\n",
        "Напишите функцию, которая будет удалять все последовательные повторы слов из заданной строки при помощи регулярных выражений.\n",
        "\n",
        "Пример работы программы:  \n",
        "\n",
        "`some_string = 'Напишите функцию функцию, которая будет будет будет будет удалять все все все все последовательные повторы слов из из из из заданной строки строки при помощи регулярных выражений.'`\n",
        "\n",
        "Результат:  \n",
        "`Напишите функцию, которая будет удалять все последовательные повторы слов из заданной строки при помощи регулярных выражений.`"
      ]
    },
    {
      "cell_type": "code",
      "metadata": {
        "id": "9TpgNjEQgttN"
      },
      "source": [
        "def help_stutterer(text):\n",
        "  pat = r'(\\w+)(\\s+\\1)+'\n",
        "  return re.sub(pat, '\\g<1>', text, 0, re.IGNORECASE)"
      ],
      "execution_count": null,
      "outputs": []
    },
    {
      "cell_type": "code",
      "metadata": {
        "colab": {
          "base_uri": "https://localhost:8080/"
        },
        "id": "ZIUEzPD9jUpr",
        "outputId": "62105bee-ed0e-4ff1-a6cf-4dac056a1181"
      },
      "source": [
        "some_string = 'Напишите напишите функцию функцию, которая будет будет будет будет удалять все все все все последовательные повторы слов из из из из заданной строки строки при помощи регулярных выражений.'\n",
        "print(some_string)\n",
        "print(help_stutterer(some_string))"
      ],
      "execution_count": null,
      "outputs": [
        {
          "output_type": "stream",
          "name": "stdout",
          "text": [
            "Напишите напишите функцию функцию, которая будет будет будет будет удалять все все все все последовательные повторы слов из из из из заданной строки строки при помощи регулярных выражений.\n",
            "Напишите функцию, которая будет удалять все последовательные повторы слов из заданной строки при помощи регулярных выражений.\n"
          ]
        }
      ]
    },
    {
      "cell_type": "markdown",
      "metadata": {
        "id": "eKgCDcvvbrDc"
      },
      "source": [
        "## Задание 3\n",
        "\n",
        "Напишите функцию, которая будет возвращать акроним по переданной в нее строке со словами.\n",
        "\n",
        "Примеры работы программы:  \n",
        "\n",
        "1. `some_words = 'Информационные технологии'`\n",
        "\n",
        "Результат: \n",
        "`ИТ`\n",
        "\n",
        "2. `some_words = 'Near Field Communication'`\n",
        "\n",
        "Результат: \n",
        "`NFC`"
      ]
    },
    {
      "cell_type": "code",
      "metadata": {
        "id": "ZTQj83d1lgvH"
      },
      "source": [
        "def get_abbr(full_name):\n",
        "  pat = r'\\b(\\w)'\n",
        "  return ''.join([match.upper() for match in re.findall(pat, full_name)])"
      ],
      "execution_count": null,
      "outputs": []
    },
    {
      "cell_type": "code",
      "metadata": {
        "colab": {
          "base_uri": "https://localhost:8080/"
        },
        "id": "bLCQ0cHnmt3M",
        "outputId": "aebc5075-58cf-4d5c-92d1-4788d35881e1"
      },
      "source": [
        "for term in ['Информационные технологии', 'Near Field Communication']:\n",
        "  print(f'{get_abbr(term)} stands for \"{term}\"')"
      ],
      "execution_count": null,
      "outputs": [
        {
          "output_type": "stream",
          "name": "stdout",
          "text": [
            "ИТ stands for \"Информационные технологии\"\n",
            "NFC stands for \"Near Field Communication\"\n"
          ]
        }
      ]
    },
    {
      "cell_type": "markdown",
      "metadata": {
        "id": "ne4xhoFDbrDd"
      },
      "source": [
        "## Задание 4\n",
        "\n",
        "Напишите функцию, которая будет принимать на вход список email-адресов и выводить их распределение по доменным зонам.\n",
        "\n",
        "Пример работы программы:  \n",
        "\n",
        "`emails = ['test@gmail.com', 'xyz@test.in', 'test@ya.ru', 'xyz@mail.ru', 'xyz@ya.ru', 'xyz@gmail.com']`\n",
        "\n",
        "Результат: \n",
        "```\n",
        "gmail.com: 2\n",
        "test.in: 1 \n",
        "ya.ru: 2 \n",
        "mail.ru: 1\n",
        "```"
      ]
    },
    {
      "cell_type": "code",
      "metadata": {
        "id": "IsWe4mlepk_9"
      },
      "source": [
        "def count_domains(email_list):\n",
        "  pat = re.compile(r'@([\\w.]+)$')\n",
        "  stats = {}\n",
        "  for email in email_list:\n",
        "    domain = pat.search(email).group(1).lower()\n",
        "    stats[domain] = stats.setdefault(domain, 0) + 1\n",
        "  return stats"
      ],
      "execution_count": null,
      "outputs": []
    },
    {
      "cell_type": "code",
      "metadata": {
        "colab": {
          "base_uri": "https://localhost:8080/"
        },
        "id": "1-dWbK1Ar0Az",
        "outputId": "5a683190-9da4-4b4c-ed09-5bde9140cb1c"
      },
      "source": [
        "emails = ['test@gmail.com', 'xyz@test.in', 'test@ya.ru', 'xyz@mail.ru', 'xyz@ya.ru', 'xyz@gmail.com']\n",
        "\n",
        "for domain, count in count_domains(emails).items():\n",
        "  print(f'{domain}: {count}')"
      ],
      "execution_count": null,
      "outputs": [
        {
          "output_type": "stream",
          "name": "stdout",
          "text": [
            "gmail.com: 2\n",
            "test.in: 1\n",
            "ya.ru: 2\n",
            "mail.ru: 1\n"
          ]
        }
      ]
    },
    {
      "cell_type": "markdown",
      "metadata": {
        "id": "XDCUu1RobrDd"
      },
      "source": [
        "## Задание 5 (необязательное)\n",
        "\n",
        "Напишите функцию, которая будет подсчитывать сколько слов начинается на гласные, а сколько на согласные буквы в тексте (текст может быть написан как с использованием букв кириллицы, так и латиницы).\n",
        "\n",
        "Пример работы программы:  \n",
        "\n",
        "`some_text = 'Эталонной реализацией Python является интерпретатор CPython, поддерживающий большинство активно используемых платформ. Он распространяется под свободной лицензией Python Software Foundation License, позволяющей использовать его без ограничений в любых приложениях, включая проприетарные.'`\n",
        "\n",
        "Результат: \n",
        "```\n",
        "Слов на гласные буквы: 9\n",
        "Слов на согласные буквы: 21 \n",
        "```"
      ]
    },
    {
      "cell_type": "code",
      "metadata": {
        "id": "X9ZPf8q_sk0L"
      },
      "source": [
        "def count_cons_vowels(text):\n",
        "  # https://www.englishhints.com/english-vowels.html\n",
        "  # https://en.wikipedia.org/wiki/Consonant#:~:text=The%20word%20consonant%20is%20also%20used%20to%20refer,T%2C%20V%2C%20W%2C%20X%2C%20Z%2C%20and%20usually%20Y.\n",
        "  pat = r'(?P<vowel>\\b[aeiouаоэеиыуёюя])|(?P<consonant>\\b[bcdfghjklmnpqrstvwxzбвгджзйклмнпрстфхцчшщ])'\n",
        "  res = {'vowels': 0, 'consonants': 0}\n",
        "  for match in re.finditer(pat, text, re.IGNORECASE):\n",
        "    if match.group('vowel'):\n",
        "      res['vowels'] += 1\n",
        "    else:\n",
        "      res['consonants'] += 1\n",
        "  return res"
      ],
      "execution_count": null,
      "outputs": []
    },
    {
      "cell_type": "code",
      "metadata": {
        "colab": {
          "base_uri": "https://localhost:8080/"
        },
        "id": "AXSLeDw6wi50",
        "outputId": "b09b0fd3-422d-4ea5-9e71-c2265ac26e9b"
      },
      "source": [
        "some_text = 'Эталонной реализацией Python является интерпретатор CPython, поддерживающий большинство активно используемых платформ. Он распространяется под свободной лицензией Python Software Foundation License, позволяющей использовать его без ограничений в любых приложениях, включая проприетарные.'\n",
        "print(count_cons_vowels(some_text))"
      ],
      "execution_count": null,
      "outputs": [
        {
          "output_type": "stream",
          "name": "stdout",
          "text": [
            "{'vowels': 9, 'consonants': 21}\n"
          ]
        }
      ]
    },
    {
      "cell_type": "markdown",
      "metadata": {
        "id": "CPsvZCIIbrDe"
      },
      "source": [
        "## Задание 6 (необязательное)\n",
        "Напишите функцию, которая будет проверять номер сотового телефона на валидность (только для российского формата), если он валиден, то переводить его в формат:   \n",
        "+7-xxx-xxx-xx-xx  \n",
        "Постарайтесь предусмотреть как можно больше адекватных форматов изначального ввода номера.\n",
        "Примеры работы программы:  \n",
        "\n",
        "1. `phone = '+7 955 555-55-55'`\n",
        "\n",
        "Результат: \n",
        "`+7-955-555-55-55`\n",
        "\n",
        "2. `phone = '8(955)555-55-55'`\n",
        "\n",
        "Результат: \n",
        "`+7-955-555-55-55`\n",
        "\n",
        "3. `phone = '+7 955 555 55 55'`\n",
        "\n",
        "Результат: \n",
        "`+7-955-555-55-55`\n",
        "\n",
        "4. `phone = '7(955) 555-55-55'`\n",
        "\n",
        "Результат: \n",
        "`+7-955-555-55-55`\n",
        "\n",
        "5. `phone = '423-555-55-5555'`\n",
        "\n",
        "Результат: \n",
        "`Номер не валиден`\n",
        "\n",
        "6. `phone = '123-456-789'`\n",
        "\n",
        "Результат: \n",
        "`Номер не валиден`"
      ]
    },
    {
      "cell_type": "code",
      "metadata": {
        "id": "TscfSiFO3xZt"
      },
      "source": [
        "def check_mobile_number(mob_num):\n",
        "  # https://en.wikipedia.org/wiki/Telephone_numbers_in_Russia\n",
        "  country_code_part = r'\\s*(7|\\+7|8|)'\n",
        "  area_code_part = r'[\\s\\-_]*((\\(\\s*9\\d{2}\\s*\\))|(9\\d{2}))'\n",
        "  individual_number_part = r'([\\s\\-_]*\\d){7}[\\s\\-_]*'\n",
        "  mobile_number_pat = f'{country_code_part}(?P<mob_num>{area_code_part}{individual_number_part})'\n",
        "\n",
        "  local_mob_num = re.fullmatch(mobile_number_pat, mob_num)\n",
        "  if not local_mob_num:\n",
        "    return None\n",
        "\n",
        "  res = '+7-xxx-xxx-xx-xx'\n",
        "  for digit in re.findall(r'\\d', local_mob_num.group('mob_num')):\n",
        "    res = re.sub('x', digit, res, 1)\n",
        "  return res"
      ],
      "execution_count": null,
      "outputs": []
    },
    {
      "cell_type": "code",
      "metadata": {
        "colab": {
          "base_uri": "https://localhost:8080/"
        },
        "id": "xzgDBIvx5LZ5",
        "outputId": "be930005-dcf8-4a22-caf5-0dd409bda92a"
      },
      "source": [
        "for phone in ['+7 955 555-55-55', '8(955)555-55-55', '+7 955 555 55 55', \n",
        "              '7(955) 555-55-55', '423-555-55-5555', '123-456-789',\n",
        "              '+7 912 345-67-89', '8(912)345-67-89', '+7 912 345 67 89',\n",
        "              '7(912) 345-67-89', '8(812)345-67-89', '+7 812 345 67 89',\n",
        "              ]:\n",
        "  res = check_mobile_number(phone)\n",
        "  print(f'phone = \"{phone}\"')\n",
        "  if res:\n",
        "    print(res)\n",
        "  else:\n",
        "    print('Номер не валиден')"
      ],
      "execution_count": null,
      "outputs": [
        {
          "output_type": "stream",
          "name": "stdout",
          "text": [
            "phone = \"+7 955 555-55-55\"\n",
            "+7-955-555-55-55\n",
            "phone = \"8(955)555-55-55\"\n",
            "+7-955-555-55-55\n",
            "phone = \"+7 955 555 55 55\"\n",
            "+7-955-555-55-55\n",
            "phone = \"7(955) 555-55-55\"\n",
            "+7-955-555-55-55\n",
            "phone = \"423-555-55-5555\"\n",
            "Номер не валиден\n",
            "phone = \"123-456-789\"\n",
            "Номер не валиден\n",
            "phone = \"+7 912 345-67-89\"\n",
            "+7-912-345-67-89\n",
            "phone = \"8(912)345-67-89\"\n",
            "+7-912-345-67-89\n",
            "phone = \"+7 912 345 67 89\"\n",
            "+7-912-345-67-89\n",
            "phone = \"7(912) 345-67-89\"\n",
            "+7-912-345-67-89\n",
            "phone = \"8(812)345-67-89\"\n",
            "Номер не валиден\n",
            "phone = \"+7 812 345 67 89\"\n",
            "Номер не валиден\n"
          ]
        }
      ]
    }
  ]
}